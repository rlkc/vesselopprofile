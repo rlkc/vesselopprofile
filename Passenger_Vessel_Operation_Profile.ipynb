{
  "cells": [
    {
      "cell_type": "code",
      "execution_count": 65,
      "metadata": {
        "id": "XTgp9mFMUdF0"
      },
      "outputs": [],
      "source": [
        "import numpy as np\n",
        "import pandas as pd\n",
        "import matplotlib.pyplot as plt\n",
        "import plotly.express as px\n",
        "import plotly.graph_objects as go\n",
        "from plotly.subplots import make_subplots"
      ]
    },
    {
      "cell_type": "code",
      "execution_count": 66,
      "metadata": {
        "id": "MobN0wwnUjYN"
      },
      "outputs": [],
      "source": [
        "passenger_df = pd.read_csv('Passenger.csv', header='infer')\n",
        "cargo_df = pd.read_csv('Cargo.csv', header='infer')\n",
        "passengerhs_df = pd.read_csv('PassengerHS.csv', header='infer')"
      ]
    },
    {
      "cell_type": "code",
      "execution_count": 67,
      "metadata": {
        "colab": {
          "base_uri": "https://localhost:8080/",
          "height": 206
        },
        "id": "EyZU5Ih8UkuZ",
        "outputId": "81b6c319-2cb9-413c-dc9e-7825fecd59d5"
      },
      "outputs": [
        {
          "name": "stdout",
          "output_type": "stream",
          "text": [
            "             Timestamp    Source  Speed  Course  Latitude  Longitude\n",
            "0  2024-04-27 08:30:41  Terr-AIS    7.5   199.0  1.296622   103.7567\n",
            "1  2024-04-27 08:26:47  Terr-AIS    7.6   163.0  1.304510   103.7545\n",
            "2  2024-04-27 08:23:42  Terr-AIS    8.4   341.0  1.302993   103.7551\n",
            "3  2024-04-27 08:21:42  Terr-AIS    8.5   345.0  1.298658   103.7570\n",
            "4  2024-04-27 08:18:41  Terr-AIS    8.8    79.0  1.294713   103.7520\n",
            "        Timestamp    Source  Speed  Course  Latitude  Longitude  Heading\n",
            "0  24-03-24 23:44  Terr-AIS    0.0     NaN  1.269968   103.8545  Unknown\n",
            "1  24-03-24 23:23  Terr-AIS    0.0     NaN  1.270090   103.8544  Unknown\n",
            "2  24-03-24 23:03  Terr-AIS    0.0     NaN  1.270070   103.8544  Unknown\n",
            "3  24-03-24 22:41  Terr-AIS    0.1     NaN  1.270112   103.8544  Unknown\n",
            "4  24-03-24 22:20  Terr-AIS    0.0     NaN  1.270002   103.8545  Unknown\n",
            "             Timestamp    Source  Speed  Course  Latitude  Longitude  Heading\n",
            "0  2024-04-28 14:09:59  Terr-AIS    7.1     138  1.269857   103.8638  Unknown\n",
            "1  2024-04-28 14:06:29  Terr-AIS    5.8     235  1.270842   103.8655  Unknown\n",
            "2  2024-04-28 14:04:21  Terr-AIS   16.4     252  1.275167   103.8713  Unknown\n",
            "3  2024-04-28 14:01:22  Terr-AIS   17.0     250  1.275853   103.8849  Unknown\n",
            "4  2024-04-28 13:59:21  Terr-AIS   16.9     272  1.277178   103.8944  Unknown\n"
          ]
        }
      ],
      "source": [
        "print(passenger_df.head())\n",
        "print(cargo_df.head())\n",
        "print(passengerhs_df.head())"
      ]
    },
    {
      "cell_type": "code",
      "execution_count": 68,
      "metadata": {},
      "outputs": [
        {
          "data": {
            "application/vnd.plotly.v1+json": {
              "config": {
                "plotlyServerURL": "https://plot.ly"
              },
              "data": [
                {
                  "name": "Passenger",
                  "type": "histogram",
                  "x": {
                    "bdata": "AAAAAAAAHkBmZmZmZmYeQM3MzMzMzCBAAAAAAAAAIUCamZmZmZkhQM3MzMzMzCZAzczMzMzMJUAAAAAAAAAlQAAAAAAAACZAAAAAAAAAAAAzMzMzMzPTP5qZmZmZmbk/ZmZmZmZm5j8AAAAAAAAlQGZmZmZmZiVAzczMzMzMJEAAAAAAAAAkQM3MzMzMzB5AMzMzMzMzH0CamZmZmZm5PzMzMzMzMyBAAAAAAAAAIEAzMzMzMzMhQGZmZmZmZiVAzczMzMzMJUCamZmZmZknQDMzMzMzMyZAAAAAAAAAJkAAAAAAAAAmQAAAAAAAACZAzczMzMzMJkAzMzMzMzMDQJqZmZmZmck/zczMzMzM9D/NzMzMzMz8PzMzMzMzMwNAzczMzMzMBEAAAAAAAAASQM3MzMzMzBZAmpmZmZmZFUAAAAAAAAAYQAAAAAAAACRAzczMzMzMJUCamZmZmZklQJqZmZmZmSVAAAAAAAAAJkCamZmZmZkmQAAAAAAAACZAMzMzMzMzF0CamZmZmZm5P5qZmZmZmbk/mpmZmZmZuT+amZmZmZm5PzMzMzMzM9M/mpmZmZmZyT+amZmZmZm5P5qZmZmZmdk/MzMzMzMz0z8zMzMzMzMfQJqZmZmZmR1AMzMzMzMzB0BmZmZmZmYWQDMzMzMzMx9AzczMzMzMHkBmZmZmZmYjQGZmZmZmZihAzczMzMzMKECamZmZmZknQGZmZmZmZhhAmpmZmZmZuT+amZmZmZm5PwAAAAAAAOA/MzMzMzMzKEBmZmZmZmYqQJqZmZmZmShAmpmZmZmZIUCamZmZmZkbQGZmZmZmZiVAzczMzMzMJECamZmZmZknQJqZmZmZmSdAMzMzMzMzJkDNzMzMzMwmQDMzMzMzMydAZmZmZmZmKEAzMzMzMzMoQGZmZmZmZhZAmpmZmZmZuT+amZmZmZnZP5qZmZmZmek/AAAAAAAA4D+amZmZmZn5PwAAAAAAABBAmpmZmZmZ8T8zMzMzMzMLQGZmZmZmZhJAAAAAAAAAFEAAAAAAAAASQM3MzMzMzBBAAAAAAAAAEkAAAAAAAADwP5qZmZmZmck/mpmZmZmZ2T+amZmZmZm5PzMzMzMzM9M/MzMzMzMzGUCamZmZmZm5P5qZmZmZmSFAZmZmZmZmIUAAAAAAAAAhQM3MzMzMzBZAmpmZmZmZJUAzMzMzMzMlQJqZmZmZmSVAmpmZmZmZJkAAAAAAAAAmQM3MzMzMzCVAzczMzMzMJUAAAAAAAAAiQJqZmZmZmbk/mpmZmZmZyT+amZmZmZm5PwAAAAAAAAAAmpmZmZmZyT+amZmZmZm5PwAAAAAAAAAAMzMzMzMz0z8AAAAAAADgP83MzMzMzCVAzczMzMzMJEAAAAAAAADgP83MzMzMzOw/MzMzMzMzJUCamZmZmZkmQM3MzMzMzCVAzczMzMzMJkAAAAAAAAAnQAAAAAAAACZAAAAAAAAAJUCamZmZmZkkQJqZmZmZmSVAAAAAAAAAJkAAAAAAAAAlQGZmZmZmZiVAzczMzMzMJUDNzMzMzMwlQM3MzMzMzCVAzczMzMzMJUAzMzMzMzMRQJqZmZmZmRFAmpmZmZmZuT+amZmZmZnJPzMzMzMzMxdAzczMzMzMJkCamZmZmZklQGZmZmZmZiZAmpmZmZmZJkAAAAAAAAAmQAAAAAAAACZAMzMzMzMzJUDNzMzMzMwkQAAAAAAAACVAAAAAAAAAJkAAAAAAAAAlQJqZmZmZmSVAZmZmZmZmJUCamZmZmZklQDMzMzMzMyFAmpmZmZmZuT+amZmZmZm5PwAAAAAAAABAmpmZmZmZyT+amZmZmZklQJqZmZmZmSZAzczMzMzMJkCamZmZmZklQJqZmZmZmSBAZmZmZmZm5j+amZmZmZnJPzMzMzMzM9M/mpmZmZmZ2T8zMzMzMzMhQDMzMzMzMydAZmZmZmZmJ0DNzMzMzMwmQGZmZmZmZidAZmZmZmZmKEDNzMzMzMwnQM3MzMzMzChAMzMzMzMzKEAAAAAAAAAnQAAAAAAAACdAMzMzMzMz+z+amZmZmZkBQJqZmZmZmbk/AAAAAAAA8D8zMzMzMzPjPwAAAAAAAAxAmpmZmZmZ+T9mZmZmZmb2P2ZmZmZmZiVAmpmZmZmZJUBmZmZmZmYkQM3MzMzMzCRAmpmZmZmZJUCamZmZmZkkQM3MzMzMzCZAzczMzMzMJEAzMzMzMzMmQM3MzMzMzCZAzczMzMzMJkCamZmZmZkmQJqZmZmZmRdAmpmZmZmZyT8zMzMzMzPTP2ZmZmZmZhxAMzMzMzMzJ0BmZmZmZmYnQM3MzMzMzCZAZmZmZmZmJ0AAAAAAAAAoQAAAAAAAACdAmpmZmZmZJ0AzMzMzMzMPQDMzMzMzM+M/MzMzMzMz4z+amZmZmZnJPwAAAAAAAOA/AAAAAAAA8D8zMzMzMzPzP5qZmZmZmfE/MzMzMzMz4z8zMzMzMzPjPwAAAAAAAPg/mpmZmZmZEUAzMzMzMzMPQAAAAAAAAAxAzczMzMzM9D8zMzMzMzPTPzMzMzMzM+M/mpmZmZmZ2T+amZmZmZkBQDMzMzMzMxNAZmZmZmZmEEAAAAAAAAAUQAAAAAAAABRAMzMzMzMzE0AAAAAAAAAUQDMzMzMzMxNAAAAAAAAAIEAzMzMzMzMhQDMzMzMzMyJAMzMzMzMzIkCamZmZmZkhQAAAAAAAACJAAAAAAAAAI0DNzMzMzMwiQGZmZmZmZiNAMzMzMzMzIkBmZmZmZmYkQDMzMzMzMyRAzczMzMzMHECamZmZmZn5P2ZmZmZmZuY/MzMzMzMz0z+amZmZmZnJP2ZmZmZmZiJAzczMzMzMJEBmZmZmZmYlQAAAAAAAACJAAAAAAAAAAACamZmZmZkmQDMzMzMzMyZAAAAAAAAAJkAAAAAAAAAmQM3MzMzMzCVAMzMzMzMzJ0AAAAAAAAAlQJqZmZmZmSVAmpmZmZmZJUCamZmZmZkjQJqZmZmZmSZAZmZmZmZmJkCamZmZmZklQM3MzMzMzCRAAAAAAAAAJkDNzMzMzMwmQAAAAAAAACdAZmZmZmZmJ0CamZmZmZkkQDMzMzMzM9M/MzMzMzMz0z+amZmZmZkBQGZmZmZmZilAZmZmZmZmKUDNzMzMzMwpQDMzMzMzMylAmpmZmZmZJ0AzMzMzMzPjP5qZmZmZmbk/MzMzMzMzA0CamZmZmZm5PwAAAAAAAAAAMzMzMzMzJ0AAAAAAAAAnQJqZmZmZmSdAMzMzMzMzKEDNzMzMzMwnQDMzMzMzMyhAAAAAAAAAJ0AzMzMzMzMlQM3MzMzMzCdAAAAAAAAAKEAzMzMzMzMoQDMzMzMzMylAAAAAAAAAKkCamZmZmZkqQM3MzMzMzClAZmZmZmZmJ0DNzMzMzMwnQJqZmZmZmSlAmpmZmZmZKEAzMzMzMzMoQGZmZmZmZihAAAAAAAAAKEAAAAAAAAAoQGZmZmZmZilAMzMzMzMzKEDNzMzMzMwoQAAAAAAAAChAzczMzMzMJ0BmZmZmZmYoQM3MzMzMzBxAmpmZmZmZyT+amZmZmZm5P5qZmZmZmbk/mpmZmZmZyT9mZmZmZmb2P5qZmZmZmdk/AAAAAAAACEAAAAAAAAAMQM3MzMzMzOw/AAAAAAAA8D8zMzMzMzMDQM3MzMzMzAxAmpmZmZmZ2T8AAAAAAADgP2ZmZmZmZuY/AAAAAAAAEEBmZmZmZmYOQDMzMzMzMw9AAAAAAAAAEECamZmZmZkNQGZmZmZmZhBAZmZmZmZmFEAzMzMzMzMVQM3MzMzMzBRAzczMzMzMFEDNzMzMzMwaQGZmZmZmZhxAzczMzMzMHkCamZmZmZkfQGZmZmZmZh5AMzMzMzMzHUAzMzMzMzMdQM3MzMzMzB5AzczMzMzMHkAzMzMzMzMgQDMzMzMzMyBAMzMzMzMzIEAAAAAAAAAgQDMzMzMzMyBAzczMzMzMIECamZmZmZkgQJqZmZmZmSNAMzMzMzMzJEAzMzMzMzMiQGZmZmZmZiJAzczMzMzMIkAzMzMzMzMiQM3MzMzMzCFAAAAAAAAAIUDNzMzMzMwgQM3MzMzMzCNAMzMzMzMzI0AAAAAAAAAjQM3MzMzMzCJAMzMzMzMzIkDNzMzMzMwhQAAAAAAAACFAzczMzMzMIEDNzMzMzMwgQDMzMzMzMyFAZmZmZmZmIUAAAAAAAAAIQJqZmZmZmRNAMzMzMzMz0z+amZmZmZklQGZmZmZmZiZAZmZmZmZmJkBmZmZmZmYgQAAAAAAAAB5AAAAAAAAAAAAAAAAAAAAhQGZmZmZmZiZAZmZmZmZmJ0AzMzMzMzMpQM3MzMzMzCZAMzMzMzMzKEAzMzMzMzMnQDMzMzMzMyhAMzMzMzMzKEAAAAAAAAAoQJqZmZmZmShAmpmZmZmZKECamZmZmZkoQAAAAAAAACpAMzMzMzMzKkDNzMzMzMwrQJqZmZmZmSdAzczMzMzMKECamZmZmZkoQM3MzMzMzCdAAAAAAAAAKECamZmZmZknQDMzMzMzMydAZmZmZmZmKEAzMzMzMzMoQAAAAAAAAClAzczMzMzMJ0DNzMzMzMwoQDMzMzMzMyhAMzMzMzMzKEAAAAAAAAApQM3MzMzMzCdAAAAAAAAAKUAAAAAAAAAoQAAAAAAAACdAMzMzMzMz4z8zMzMzMzPjP5qZmZmZmdk/AAAAAAAA8D+amZmZmZkkQDMzMzMzMyVAAAAAAAAAJkCamZmZmZklQJqZmZmZmSVAzczMzMzMJUBmZmZmZmYmQM3MzMzMzCVAMzMzMzMzJUCamZmZmZklQM3MzMzMzCRAAAAAAAAAJkAAAAAAAAAlQAAAAAAAACVAZmZmZmZmJUCamZmZmZkmQDMzMzMzMyVAAAAAAAAAJECamZmZmZklQGZmZmZmZiZAZmZmZmZmJUDNzMzMzMwlQAAAAAAAACVAzczMzMzMJEAzMzMzMzMmQJqZmZmZmSVAZmZmZmZmJUAAAAAAAAAlQM3MzMzMzCVAAAAAAAAAJkAzMzMzMzMmQM3MzMzMzCBAmpmZmZmZH0CamZmZmZnZPzMzMzMzMyFAZmZmZmZmIkAAAAAAAAAkQGZmZmZmZiZAzczMzMzMJkDNzMzMzMwoQDMzMzMzMyBAAAAAAAAAAAAAAAAAAAAQQJqZmZmZmbk/mpmZmZmZuT+amZmZmZm5P5qZmZmZmbk/mpmZmZmZJ0AAAAAAAAAmQJqZmZmZmSZAMzMzMzMzIECamZmZmZkNQAAAAAAAAAAAmpmZmZmZuT+amZmZmZm5P5qZmZmZmbk/mpmZmZmZCUCamZmZmZm5P5qZmZmZmbk/mpmZmZmZuT+amZmZmZm5P5qZmZmZmbk/AAAAAAAAAACamZmZmZm5P5qZmZmZmbk/mpmZmZmZuT+amZmZmZm5PzMzMzMzM9M/mpmZmZmZyT+amZmZmZnJPwAAAAAAAOA/AAAAAAAAAACamZmZmZm5P5qZmZmZmck/mpmZmZmZyT9mZmZmZmYQQJqZmZmZmSZAmpmZmZmZJUDNzMzMzMwlQM3MzMzMzCZAZmZmZmZmJkAAAAAAAAAmQDMzMzMzMyVAAAAAAAAAJkDNzMzMzMwlQDMzMzMzMyZAmpmZmZmZJkAzMzMzMzMnQGZmZmZmZidAMzMzMzMzJ0BmZmZmZmYnQGZmZmZmZidAZmZmZmZmJ0DNzMzMzMwnQDMzMzMzMydAzczMzMzMJkCamZmZmZkjQJqZmZmZmck/MzMzMzMz4z9mZmZmZmbmP5qZmZmZmSVAmpmZmZmZJUBmZmZmZmYmQM3MzMzMzCVAMzMzMzMzJ0AAAAAAAAAmQM3MzMzMzCVAZmZmZmZmJUAAAAAAAAAkQJqZmZmZmSVAMzMzMzMzJUBmZmZmZmYmQM3MzMzMzCVAMzMzMzMzJUBmZmZmZmYnQGZmZmZmZiVAMzMzMzMzJUAzMzMzMzMlQDMzMzMzMyZAZmZmZmZmJkCamZmZmZklQGZmZmZmZiZAmpmZmZmZyT8AAAAAAAAhQAAAAAAAACZAmpmZmZmZJkAzMzMzMzMlQJqZmZmZmSZAMzMzMzMzJkBmZmZmZmYmQM3MzMzMzCZAAAAAAAAAJkAzMzMzMzMlQM3MzMzMzCZAZmZmZmZmJUAzMzMzMzMmQDMzMzMzMyZAMzMzMzMzJUBmZmZmZmYlQGZmZmZmZiZAMzMzMzMzJUCamZmZmZklQM3MzMzMzCVAZmZmZmZmJUAzMzMzMzMmQGZmZmZmZiVAzczMzMzMJUAzMzMzMzMlQAAAAAAAACZAZmZmZmZmJkBmZmZmZmYlQAAAAAAAACZAAAAAAAAAFkAzMzMzMzPjP5qZmZmZmck/AAAAAAAA+D9mZmZmZmYnQGZmZmZmZidAmpmZmZmZJkCamZmZmZknQM3MzMzMzCdAZmZmZmZmJ0CamZmZmZknQAAAAAAAACdAzczMzMzMJ0BmZmZmZmYoQJqZmZmZmSZAMzMzMzMzJ0CamZmZmZknQM3MzMzMzCdAZmZmZmZmKECamZmZmZkmQAAAAAAAAChAzczMzMzMJ0DNzMzMzMwoQGZmZmZmZihAmpmZmZmZJ0CamZmZmZknQGZmZmZmZiZAZmZmZmZmJ0BmZmZmZmYnQDMzMzMzMydAMzMzMzMzJ0AAAAAAAAAnQDMzMzMzMydAZmZmZmZmJ0CamZmZmZkmQJqZmZmZmSZAMzMzMzMzEUDNzMzMzMwaQJqZmZmZmbk/mpmZmZmZ2T8zMzMzMzPTP5qZmZmZmck/mpmZmZmZyT8AAAAAAAD4P83MzMzMzPw/AAAAAAAAJkDNzMzMzMwjQJqZmZmZmbk/ZmZmZmZmJUCamZmZmZkmQJqZmZmZmSVAmpmZmZmZIUDNzMzMzMwSQJqZmZmZmdk/mpmZmZmZuT+amZmZmZm5P5qZmZmZmbk/mpmZmZmZyT8AAAAAAAAAAJqZmZmZmbk/mpmZmZmZuT+amZmZmZnxP5qZmZmZmck/mpmZmZmZyT9mZmZmZmYSQDMzMzMzMyFAzczMzMzMJkDNzMzMzMwoQM3MzMzMzCZAmpmZmZmZKEBmZmZmZmYoQGZmZmZmZihAmpmZmZmZKEAAAAAAAAAqQGZmZmZmZihAAAAAAAAAKEAAAAAAAAAeQDMzMzMzM+M/mpmZmZmZ+T+amZmZmZnJP5qZmZmZmSdAAAAAAAAAJkBmZmZmZmYlQAAAAAAAACZAZmZmZmZmJUBmZmZmZmYmQAAAAAAAACZAzczMzMzMJUBmZmZmZmYmQDMzMzMzMydAzczMzMzMJ0DNzMzMzMwmQDMzMzMzMxFAMzMzMzMzIEDNzMzMzMz0P5qZmZmZmdk/ZmZmZmZmHEBmZmZmZmYaQGZmZmZmZhpA",
                    "dtype": "f8"
                  },
                  "xaxis": "x",
                  "yaxis": "y"
                },
                {
                  "name": "Cargo",
                  "type": "histogram",
                  "x": {
                    "bdata": "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",
                    "dtype": "f8"
                  },
                  "xaxis": "x2",
                  "yaxis": "y2"
                },
                {
                  "name": "PassengerHS",
                  "type": "histogram",
                  "x": {
                    "bdata": "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",
                    "dtype": "f8"
                  },
                  "xaxis": "x3",
                  "yaxis": "y3"
                }
              ],
              "layout": {
                "annotations": [
                  {
                    "font": {
                      "size": 16
                    },
                    "showarrow": false,
                    "text": "Passenger Vessel Speeds",
                    "x": 0.5,
                    "xanchor": "center",
                    "xref": "paper",
                    "y": 1,
                    "yanchor": "bottom",
                    "yref": "paper"
                  },
                  {
                    "font": {
                      "size": 16
                    },
                    "showarrow": false,
                    "text": "Cargo Vessel Speeds",
                    "x": 0.5,
                    "xanchor": "center",
                    "xref": "paper",
                    "y": 0.6111111111111112,
                    "yanchor": "bottom",
                    "yref": "paper"
                  },
                  {
                    "font": {
                      "size": 16
                    },
                    "showarrow": false,
                    "text": "PassengerHS Vessel Speeds",
                    "x": 0.5,
                    "xanchor": "center",
                    "xref": "paper",
                    "y": 0.22222222222222224,
                    "yanchor": "bottom",
                    "yref": "paper"
                  }
                ],
                "height": 800,
                "template": {
                  "data": {
                    "bar": [
                      {
                        "error_x": {
                          "color": "#2a3f5f"
                        },
                        "error_y": {
                          "color": "#2a3f5f"
                        },
                        "marker": {
                          "line": {
                            "color": "#E5ECF6",
                            "width": 0.5
                          },
                          "pattern": {
                            "fillmode": "overlay",
                            "size": 10,
                            "solidity": 0.2
                          }
                        },
                        "type": "bar"
                      }
                    ],
                    "barpolar": [
                      {
                        "marker": {
                          "line": {
                            "color": "#E5ECF6",
                            "width": 0.5
                          },
                          "pattern": {
                            "fillmode": "overlay",
                            "size": 10,
                            "solidity": 0.2
                          }
                        },
                        "type": "barpolar"
                      }
                    ],
                    "carpet": [
                      {
                        "aaxis": {
                          "endlinecolor": "#2a3f5f",
                          "gridcolor": "white",
                          "linecolor": "white",
                          "minorgridcolor": "white",
                          "startlinecolor": "#2a3f5f"
                        },
                        "baxis": {
                          "endlinecolor": "#2a3f5f",
                          "gridcolor": "white",
                          "linecolor": "white",
                          "minorgridcolor": "white",
                          "startlinecolor": "#2a3f5f"
                        },
                        "type": "carpet"
                      }
                    ],
                    "choropleth": [
                      {
                        "colorbar": {
                          "outlinewidth": 0,
                          "ticks": ""
                        },
                        "type": "choropleth"
                      }
                    ],
                    "contour": [
                      {
                        "colorbar": {
                          "outlinewidth": 0,
                          "ticks": ""
                        },
                        "colorscale": [
                          [
                            0,
                            "#0d0887"
                          ],
                          [
                            0.1111111111111111,
                            "#46039f"
                          ],
                          [
                            0.2222222222222222,
                            "#7201a8"
                          ],
                          [
                            0.3333333333333333,
                            "#9c179e"
                          ],
                          [
                            0.4444444444444444,
                            "#bd3786"
                          ],
                          [
                            0.5555555555555556,
                            "#d8576b"
                          ],
                          [
                            0.6666666666666666,
                            "#ed7953"
                          ],
                          [
                            0.7777777777777778,
                            "#fb9f3a"
                          ],
                          [
                            0.8888888888888888,
                            "#fdca26"
                          ],
                          [
                            1,
                            "#f0f921"
                          ]
                        ],
                        "type": "contour"
                      }
                    ],
                    "contourcarpet": [
                      {
                        "colorbar": {
                          "outlinewidth": 0,
                          "ticks": ""
                        },
                        "type": "contourcarpet"
                      }
                    ],
                    "heatmap": [
                      {
                        "colorbar": {
                          "outlinewidth": 0,
                          "ticks": ""
                        },
                        "colorscale": [
                          [
                            0,
                            "#0d0887"
                          ],
                          [
                            0.1111111111111111,
                            "#46039f"
                          ],
                          [
                            0.2222222222222222,
                            "#7201a8"
                          ],
                          [
                            0.3333333333333333,
                            "#9c179e"
                          ],
                          [
                            0.4444444444444444,
                            "#bd3786"
                          ],
                          [
                            0.5555555555555556,
                            "#d8576b"
                          ],
                          [
                            0.6666666666666666,
                            "#ed7953"
                          ],
                          [
                            0.7777777777777778,
                            "#fb9f3a"
                          ],
                          [
                            0.8888888888888888,
                            "#fdca26"
                          ],
                          [
                            1,
                            "#f0f921"
                          ]
                        ],
                        "type": "heatmap"
                      }
                    ],
                    "histogram": [
                      {
                        "marker": {
                          "pattern": {
                            "fillmode": "overlay",
                            "size": 10,
                            "solidity": 0.2
                          }
                        },
                        "type": "histogram"
                      }
                    ],
                    "histogram2d": [
                      {
                        "colorbar": {
                          "outlinewidth": 0,
                          "ticks": ""
                        },
                        "colorscale": [
                          [
                            0,
                            "#0d0887"
                          ],
                          [
                            0.1111111111111111,
                            "#46039f"
                          ],
                          [
                            0.2222222222222222,
                            "#7201a8"
                          ],
                          [
                            0.3333333333333333,
                            "#9c179e"
                          ],
                          [
                            0.4444444444444444,
                            "#bd3786"
                          ],
                          [
                            0.5555555555555556,
                            "#d8576b"
                          ],
                          [
                            0.6666666666666666,
                            "#ed7953"
                          ],
                          [
                            0.7777777777777778,
                            "#fb9f3a"
                          ],
                          [
                            0.8888888888888888,
                            "#fdca26"
                          ],
                          [
                            1,
                            "#f0f921"
                          ]
                        ],
                        "type": "histogram2d"
                      }
                    ],
                    "histogram2dcontour": [
                      {
                        "colorbar": {
                          "outlinewidth": 0,
                          "ticks": ""
                        },
                        "colorscale": [
                          [
                            0,
                            "#0d0887"
                          ],
                          [
                            0.1111111111111111,
                            "#46039f"
                          ],
                          [
                            0.2222222222222222,
                            "#7201a8"
                          ],
                          [
                            0.3333333333333333,
                            "#9c179e"
                          ],
                          [
                            0.4444444444444444,
                            "#bd3786"
                          ],
                          [
                            0.5555555555555556,
                            "#d8576b"
                          ],
                          [
                            0.6666666666666666,
                            "#ed7953"
                          ],
                          [
                            0.7777777777777778,
                            "#fb9f3a"
                          ],
                          [
                            0.8888888888888888,
                            "#fdca26"
                          ],
                          [
                            1,
                            "#f0f921"
                          ]
                        ],
                        "type": "histogram2dcontour"
                      }
                    ],
                    "mesh3d": [
                      {
                        "colorbar": {
                          "outlinewidth": 0,
                          "ticks": ""
                        },
                        "type": "mesh3d"
                      }
                    ],
                    "parcoords": [
                      {
                        "line": {
                          "colorbar": {
                            "outlinewidth": 0,
                            "ticks": ""
                          }
                        },
                        "type": "parcoords"
                      }
                    ],
                    "pie": [
                      {
                        "automargin": true,
                        "type": "pie"
                      }
                    ],
                    "scatter": [
                      {
                        "fillpattern": {
                          "fillmode": "overlay",
                          "size": 10,
                          "solidity": 0.2
                        },
                        "type": "scatter"
                      }
                    ],
                    "scatter3d": [
                      {
                        "line": {
                          "colorbar": {
                            "outlinewidth": 0,
                            "ticks": ""
                          }
                        },
                        "marker": {
                          "colorbar": {
                            "outlinewidth": 0,
                            "ticks": ""
                          }
                        },
                        "type": "scatter3d"
                      }
                    ],
                    "scattercarpet": [
                      {
                        "marker": {
                          "colorbar": {
                            "outlinewidth": 0,
                            "ticks": ""
                          }
                        },
                        "type": "scattercarpet"
                      }
                    ],
                    "scattergeo": [
                      {
                        "marker": {
                          "colorbar": {
                            "outlinewidth": 0,
                            "ticks": ""
                          }
                        },
                        "type": "scattergeo"
                      }
                    ],
                    "scattergl": [
                      {
                        "marker": {
                          "colorbar": {
                            "outlinewidth": 0,
                            "ticks": ""
                          }
                        },
                        "type": "scattergl"
                      }
                    ],
                    "scattermap": [
                      {
                        "marker": {
                          "colorbar": {
                            "outlinewidth": 0,
                            "ticks": ""
                          }
                        },
                        "type": "scattermap"
                      }
                    ],
                    "scattermapbox": [
                      {
                        "marker": {
                          "colorbar": {
                            "outlinewidth": 0,
                            "ticks": ""
                          }
                        },
                        "type": "scattermapbox"
                      }
                    ],
                    "scatterpolar": [
                      {
                        "marker": {
                          "colorbar": {
                            "outlinewidth": 0,
                            "ticks": ""
                          }
                        },
                        "type": "scatterpolar"
                      }
                    ],
                    "scatterpolargl": [
                      {
                        "marker": {
                          "colorbar": {
                            "outlinewidth": 0,
                            "ticks": ""
                          }
                        },
                        "type": "scatterpolargl"
                      }
                    ],
                    "scatterternary": [
                      {
                        "marker": {
                          "colorbar": {
                            "outlinewidth": 0,
                            "ticks": ""
                          }
                        },
                        "type": "scatterternary"
                      }
                    ],
                    "surface": [
                      {
                        "colorbar": {
                          "outlinewidth": 0,
                          "ticks": ""
                        },
                        "colorscale": [
                          [
                            0,
                            "#0d0887"
                          ],
                          [
                            0.1111111111111111,
                            "#46039f"
                          ],
                          [
                            0.2222222222222222,
                            "#7201a8"
                          ],
                          [
                            0.3333333333333333,
                            "#9c179e"
                          ],
                          [
                            0.4444444444444444,
                            "#bd3786"
                          ],
                          [
                            0.5555555555555556,
                            "#d8576b"
                          ],
                          [
                            0.6666666666666666,
                            "#ed7953"
                          ],
                          [
                            0.7777777777777778,
                            "#fb9f3a"
                          ],
                          [
                            0.8888888888888888,
                            "#fdca26"
                          ],
                          [
                            1,
                            "#f0f921"
                          ]
                        ],
                        "type": "surface"
                      }
                    ],
                    "table": [
                      {
                        "cells": {
                          "fill": {
                            "color": "#EBF0F8"
                          },
                          "line": {
                            "color": "white"
                          }
                        },
                        "header": {
                          "fill": {
                            "color": "#C8D4E3"
                          },
                          "line": {
                            "color": "white"
                          }
                        },
                        "type": "table"
                      }
                    ]
                  },
                  "layout": {
                    "annotationdefaults": {
                      "arrowcolor": "#2a3f5f",
                      "arrowhead": 0,
                      "arrowwidth": 1
                    },
                    "autotypenumbers": "strict",
                    "coloraxis": {
                      "colorbar": {
                        "outlinewidth": 0,
                        "ticks": ""
                      }
                    },
                    "colorscale": {
                      "diverging": [
                        [
                          0,
                          "#8e0152"
                        ],
                        [
                          0.1,
                          "#c51b7d"
                        ],
                        [
                          0.2,
                          "#de77ae"
                        ],
                        [
                          0.3,
                          "#f1b6da"
                        ],
                        [
                          0.4,
                          "#fde0ef"
                        ],
                        [
                          0.5,
                          "#f7f7f7"
                        ],
                        [
                          0.6,
                          "#e6f5d0"
                        ],
                        [
                          0.7,
                          "#b8e186"
                        ],
                        [
                          0.8,
                          "#7fbc41"
                        ],
                        [
                          0.9,
                          "#4d9221"
                        ],
                        [
                          1,
                          "#276419"
                        ]
                      ],
                      "sequential": [
                        [
                          0,
                          "#0d0887"
                        ],
                        [
                          0.1111111111111111,
                          "#46039f"
                        ],
                        [
                          0.2222222222222222,
                          "#7201a8"
                        ],
                        [
                          0.3333333333333333,
                          "#9c179e"
                        ],
                        [
                          0.4444444444444444,
                          "#bd3786"
                        ],
                        [
                          0.5555555555555556,
                          "#d8576b"
                        ],
                        [
                          0.6666666666666666,
                          "#ed7953"
                        ],
                        [
                          0.7777777777777778,
                          "#fb9f3a"
                        ],
                        [
                          0.8888888888888888,
                          "#fdca26"
                        ],
                        [
                          1,
                          "#f0f921"
                        ]
                      ],
                      "sequentialminus": [
                        [
                          0,
                          "#0d0887"
                        ],
                        [
                          0.1111111111111111,
                          "#46039f"
                        ],
                        [
                          0.2222222222222222,
                          "#7201a8"
                        ],
                        [
                          0.3333333333333333,
                          "#9c179e"
                        ],
                        [
                          0.4444444444444444,
                          "#bd3786"
                        ],
                        [
                          0.5555555555555556,
                          "#d8576b"
                        ],
                        [
                          0.6666666666666666,
                          "#ed7953"
                        ],
                        [
                          0.7777777777777778,
                          "#fb9f3a"
                        ],
                        [
                          0.8888888888888888,
                          "#fdca26"
                        ],
                        [
                          1,
                          "#f0f921"
                        ]
                      ]
                    },
                    "colorway": [
                      "#636efa",
                      "#EF553B",
                      "#00cc96",
                      "#ab63fa",
                      "#FFA15A",
                      "#19d3f3",
                      "#FF6692",
                      "#B6E880",
                      "#FF97FF",
                      "#FECB52"
                    ],
                    "font": {
                      "color": "#2a3f5f"
                    },
                    "geo": {
                      "bgcolor": "white",
                      "lakecolor": "white",
                      "landcolor": "#E5ECF6",
                      "showlakes": true,
                      "showland": true,
                      "subunitcolor": "white"
                    },
                    "hoverlabel": {
                      "align": "left"
                    },
                    "hovermode": "closest",
                    "mapbox": {
                      "style": "light"
                    },
                    "paper_bgcolor": "white",
                    "plot_bgcolor": "#E5ECF6",
                    "polar": {
                      "angularaxis": {
                        "gridcolor": "white",
                        "linecolor": "white",
                        "ticks": ""
                      },
                      "bgcolor": "#E5ECF6",
                      "radialaxis": {
                        "gridcolor": "white",
                        "linecolor": "white",
                        "ticks": ""
                      }
                    },
                    "scene": {
                      "xaxis": {
                        "backgroundcolor": "#E5ECF6",
                        "gridcolor": "white",
                        "gridwidth": 2,
                        "linecolor": "white",
                        "showbackground": true,
                        "ticks": "",
                        "zerolinecolor": "white"
                      },
                      "yaxis": {
                        "backgroundcolor": "#E5ECF6",
                        "gridcolor": "white",
                        "gridwidth": 2,
                        "linecolor": "white",
                        "showbackground": true,
                        "ticks": "",
                        "zerolinecolor": "white"
                      },
                      "zaxis": {
                        "backgroundcolor": "#E5ECF6",
                        "gridcolor": "white",
                        "gridwidth": 2,
                        "linecolor": "white",
                        "showbackground": true,
                        "ticks": "",
                        "zerolinecolor": "white"
                      }
                    },
                    "shapedefaults": {
                      "line": {
                        "color": "#2a3f5f"
                      }
                    },
                    "ternary": {
                      "aaxis": {
                        "gridcolor": "white",
                        "linecolor": "white",
                        "ticks": ""
                      },
                      "baxis": {
                        "gridcolor": "white",
                        "linecolor": "white",
                        "ticks": ""
                      },
                      "bgcolor": "#E5ECF6",
                      "caxis": {
                        "gridcolor": "white",
                        "linecolor": "white",
                        "ticks": ""
                      }
                    },
                    "title": {
                      "x": 0.05
                    },
                    "xaxis": {
                      "automargin": true,
                      "gridcolor": "white",
                      "linecolor": "white",
                      "ticks": "",
                      "title": {
                        "standoff": 15
                      },
                      "zerolinecolor": "white",
                      "zerolinewidth": 2
                    },
                    "yaxis": {
                      "automargin": true,
                      "gridcolor": "white",
                      "linecolor": "white",
                      "ticks": "",
                      "title": {
                        "standoff": 15
                      },
                      "zerolinecolor": "white",
                      "zerolinewidth": 2
                    }
                  }
                },
                "title": {
                  "text": "Combined Histograms"
                },
                "width": 700,
                "xaxis": {
                  "anchor": "y",
                  "domain": [
                    0,
                    1
                  ]
                },
                "xaxis2": {
                  "anchor": "y2",
                  "domain": [
                    0,
                    1
                  ]
                },
                "xaxis3": {
                  "anchor": "y3",
                  "domain": [
                    0,
                    1
                  ]
                },
                "yaxis": {
                  "anchor": "x",
                  "domain": [
                    0.7777777777777778,
                    1
                  ]
                },
                "yaxis2": {
                  "anchor": "x2",
                  "domain": [
                    0.3888888888888889,
                    0.6111111111111112
                  ]
                },
                "yaxis3": {
                  "anchor": "x3",
                  "domain": [
                    0,
                    0.22222222222222224
                  ]
                }
              }
            }
          },
          "metadata": {},
          "output_type": "display_data"
        }
      ],
      "source": [
        "fig = make_subplots(rows=3, cols=1, subplot_titles=(\"Passenger Vessel Speeds\", \"Cargo Vessel Speeds\", \"PassengerHS Vessel Speeds\"))\n",
        "\n",
        "fig.add_trace(go.Histogram(x=passenger_df['Speed'], name='Passenger'), row=1, col=1)\n",
        "fig.add_trace(go.Histogram(x=cargo_df['Speed'], name='Cargo'), row=2, col=1)\n",
        "fig.add_trace(go.Histogram(x=passengerhs_df['Speed'], name='PassengerHS'), row=3, col=1)\n",
        "\n",
        "fig.update_layout(height=800, width=700, title_text=\"Combined Histograms\")\n",
        "fig.show()"
      ]
    },
    {
      "cell_type": "code",
      "execution_count": 69,
      "metadata": {
        "id": "kxdLU8e2U_7w"
      },
      "outputs": [],
      "source": [
        "bin_width = 1\n",
        "st = 0\n",
        "en = 15"
      ]
    },
    {
      "cell_type": "code",
      "execution_count": 70,
      "metadata": {
        "colab": {
          "base_uri": "https://localhost:8080/"
        },
        "id": "IWYuQEe1U_5H",
        "outputId": "46e07c47-ce19-4ecb-9c9e-a88d9380bb37"
      },
      "outputs": [
        {
          "data": {
            "text/plain": [
              "array([ 0,  1,  2,  3,  4,  5,  6,  7,  8,  9, 10, 11, 12, 13, 14, 15])"
            ]
          },
          "execution_count": 70,
          "metadata": {},
          "output_type": "execute_result"
        }
      ],
      "source": [
        "passengerspeed_bins = np.arange(st,en+bin_width,bin_width)\n",
        "passengerspeed_bins"
      ]
    },
    {
      "cell_type": "code",
      "execution_count": 71,
      "metadata": {
        "colab": {
          "base_uri": "https://localhost:8080/"
        },
        "id": "sSrePodDU_2U",
        "outputId": "613b25f8-38f2-472c-fdeb-405f52df9cfa"
      },
      "outputs": [
        {
          "data": {
            "text/plain": [
              "array([ 0.5,  1.5,  2.5,  3.5,  4.5,  5.5,  6.5,  7.5,  8.5,  9.5, 10.5,\n",
              "       11.5, 12.5, 13.5, 14.5])"
            ]
          },
          "execution_count": 71,
          "metadata": {},
          "output_type": "execute_result"
        }
      ],
      "source": [
        "passengerspeed_midpts = np.arange(st+bin_width/2,en,bin_width)\n",
        "passengerspeed_midpts"
      ]
    },
    {
      "cell_type": "code",
      "execution_count": 72,
      "metadata": {
        "colab": {
          "base_uri": "https://localhost:8080/"
        },
        "id": "NZpx7-nrU_zg",
        "outputId": "95e17319-23ce-42c8-f699-5ad0913f6641"
      },
      "outputs": [
        {
          "data": {
            "text/plain": [
              "array([137,  24,  10,  14,  23,  17,   8,  23,  42,  25, 123, 176,  64,\n",
              "         7,   0])"
            ]
          },
          "execution_count": 72,
          "metadata": {},
          "output_type": "execute_result"
        }
      ],
      "source": [
        "passenger_counts, passenger_bins = np.histogram(passenger_df['Speed'], bins=passengerspeed_bins,range=(st,en))\n",
        "passenger_counts"
      ]
    },
    {
      "cell_type": "code",
      "execution_count": 73,
      "metadata": {
        "colab": {
          "base_uri": "https://localhost:8080/"
        },
        "id": "KVSaFhd1U_wm",
        "outputId": "666ca3c6-fb51-4157-cde6-4be845aab65d"
      },
      "outputs": [
        {
          "data": {
            "text/plain": [
              "array([ 0,  1,  2,  3,  4,  5,  6,  7,  8,  9, 10, 11, 12, 13, 14, 15])"
            ]
          },
          "execution_count": 73,
          "metadata": {},
          "output_type": "execute_result"
        }
      ],
      "source": [
        "passenger_bins"
      ]
    },
    {
      "cell_type": "code",
      "execution_count": 74,
      "metadata": {
        "colab": {
          "base_uri": "https://localhost:8080/",
          "height": 447
        },
        "id": "evkqSg26U_tc",
        "outputId": "96224fe5-62fb-465d-ab00-bdef4d5001e2"
      },
      "outputs": [
        {
          "data": {
            "application/vnd.plotly.v1+json": {
              "config": {
                "plotlyServerURL": "https://plot.ly"
              },
              "data": [
                {
                  "type": "bar",
                  "width": 1,
                  "x": {
                    "bdata": "AAAAAAAA4D8AAAAAAAD4PwAAAAAAAARAAAAAAAAADEAAAAAAAAASQAAAAAAAABZAAAAAAAAAGkAAAAAAAAAeQAAAAAAAACFAAAAAAAAAI0AAAAAAAAAlQAAAAAAAACdAAAAAAAAAKUAAAAAAAAArQAAAAAAAAC1A",
                    "dtype": "f8"
                  },
                  "y": {
                    "bdata": "iQAYAAoADgAXABEACAAXACoAGQB7ALAAQAAHAAAA",
                    "dtype": "i2"
                  }
                }
              ],
              "layout": {
                "template": {
                  "data": {
                    "bar": [
                      {
                        "error_x": {
                          "color": "#2a3f5f"
                        },
                        "error_y": {
                          "color": "#2a3f5f"
                        },
                        "marker": {
                          "line": {
                            "color": "#E5ECF6",
                            "width": 0.5
                          },
                          "pattern": {
                            "fillmode": "overlay",
                            "size": 10,
                            "solidity": 0.2
                          }
                        },
                        "type": "bar"
                      }
                    ],
                    "barpolar": [
                      {
                        "marker": {
                          "line": {
                            "color": "#E5ECF6",
                            "width": 0.5
                          },
                          "pattern": {
                            "fillmode": "overlay",
                            "size": 10,
                            "solidity": 0.2
                          }
                        },
                        "type": "barpolar"
                      }
                    ],
                    "carpet": [
                      {
                        "aaxis": {
                          "endlinecolor": "#2a3f5f",
                          "gridcolor": "white",
                          "linecolor": "white",
                          "minorgridcolor": "white",
                          "startlinecolor": "#2a3f5f"
                        },
                        "baxis": {
                          "endlinecolor": "#2a3f5f",
                          "gridcolor": "white",
                          "linecolor": "white",
                          "minorgridcolor": "white",
                          "startlinecolor": "#2a3f5f"
                        },
                        "type": "carpet"
                      }
                    ],
                    "choropleth": [
                      {
                        "colorbar": {
                          "outlinewidth": 0,
                          "ticks": ""
                        },
                        "type": "choropleth"
                      }
                    ],
                    "contour": [
                      {
                        "colorbar": {
                          "outlinewidth": 0,
                          "ticks": ""
                        },
                        "colorscale": [
                          [
                            0,
                            "#0d0887"
                          ],
                          [
                            0.1111111111111111,
                            "#46039f"
                          ],
                          [
                            0.2222222222222222,
                            "#7201a8"
                          ],
                          [
                            0.3333333333333333,
                            "#9c179e"
                          ],
                          [
                            0.4444444444444444,
                            "#bd3786"
                          ],
                          [
                            0.5555555555555556,
                            "#d8576b"
                          ],
                          [
                            0.6666666666666666,
                            "#ed7953"
                          ],
                          [
                            0.7777777777777778,
                            "#fb9f3a"
                          ],
                          [
                            0.8888888888888888,
                            "#fdca26"
                          ],
                          [
                            1,
                            "#f0f921"
                          ]
                        ],
                        "type": "contour"
                      }
                    ],
                    "contourcarpet": [
                      {
                        "colorbar": {
                          "outlinewidth": 0,
                          "ticks": ""
                        },
                        "type": "contourcarpet"
                      }
                    ],
                    "heatmap": [
                      {
                        "colorbar": {
                          "outlinewidth": 0,
                          "ticks": ""
                        },
                        "colorscale": [
                          [
                            0,
                            "#0d0887"
                          ],
                          [
                            0.1111111111111111,
                            "#46039f"
                          ],
                          [
                            0.2222222222222222,
                            "#7201a8"
                          ],
                          [
                            0.3333333333333333,
                            "#9c179e"
                          ],
                          [
                            0.4444444444444444,
                            "#bd3786"
                          ],
                          [
                            0.5555555555555556,
                            "#d8576b"
                          ],
                          [
                            0.6666666666666666,
                            "#ed7953"
                          ],
                          [
                            0.7777777777777778,
                            "#fb9f3a"
                          ],
                          [
                            0.8888888888888888,
                            "#fdca26"
                          ],
                          [
                            1,
                            "#f0f921"
                          ]
                        ],
                        "type": "heatmap"
                      }
                    ],
                    "histogram": [
                      {
                        "marker": {
                          "pattern": {
                            "fillmode": "overlay",
                            "size": 10,
                            "solidity": 0.2
                          }
                        },
                        "type": "histogram"
                      }
                    ],
                    "histogram2d": [
                      {
                        "colorbar": {
                          "outlinewidth": 0,
                          "ticks": ""
                        },
                        "colorscale": [
                          [
                            0,
                            "#0d0887"
                          ],
                          [
                            0.1111111111111111,
                            "#46039f"
                          ],
                          [
                            0.2222222222222222,
                            "#7201a8"
                          ],
                          [
                            0.3333333333333333,
                            "#9c179e"
                          ],
                          [
                            0.4444444444444444,
                            "#bd3786"
                          ],
                          [
                            0.5555555555555556,
                            "#d8576b"
                          ],
                          [
                            0.6666666666666666,
                            "#ed7953"
                          ],
                          [
                            0.7777777777777778,
                            "#fb9f3a"
                          ],
                          [
                            0.8888888888888888,
                            "#fdca26"
                          ],
                          [
                            1,
                            "#f0f921"
                          ]
                        ],
                        "type": "histogram2d"
                      }
                    ],
                    "histogram2dcontour": [
                      {
                        "colorbar": {
                          "outlinewidth": 0,
                          "ticks": ""
                        },
                        "colorscale": [
                          [
                            0,
                            "#0d0887"
                          ],
                          [
                            0.1111111111111111,
                            "#46039f"
                          ],
                          [
                            0.2222222222222222,
                            "#7201a8"
                          ],
                          [
                            0.3333333333333333,
                            "#9c179e"
                          ],
                          [
                            0.4444444444444444,
                            "#bd3786"
                          ],
                          [
                            0.5555555555555556,
                            "#d8576b"
                          ],
                          [
                            0.6666666666666666,
                            "#ed7953"
                          ],
                          [
                            0.7777777777777778,
                            "#fb9f3a"
                          ],
                          [
                            0.8888888888888888,
                            "#fdca26"
                          ],
                          [
                            1,
                            "#f0f921"
                          ]
                        ],
                        "type": "histogram2dcontour"
                      }
                    ],
                    "mesh3d": [
                      {
                        "colorbar": {
                          "outlinewidth": 0,
                          "ticks": ""
                        },
                        "type": "mesh3d"
                      }
                    ],
                    "parcoords": [
                      {
                        "line": {
                          "colorbar": {
                            "outlinewidth": 0,
                            "ticks": ""
                          }
                        },
                        "type": "parcoords"
                      }
                    ],
                    "pie": [
                      {
                        "automargin": true,
                        "type": "pie"
                      }
                    ],
                    "scatter": [
                      {
                        "fillpattern": {
                          "fillmode": "overlay",
                          "size": 10,
                          "solidity": 0.2
                        },
                        "type": "scatter"
                      }
                    ],
                    "scatter3d": [
                      {
                        "line": {
                          "colorbar": {
                            "outlinewidth": 0,
                            "ticks": ""
                          }
                        },
                        "marker": {
                          "colorbar": {
                            "outlinewidth": 0,
                            "ticks": ""
                          }
                        },
                        "type": "scatter3d"
                      }
                    ],
                    "scattercarpet": [
                      {
                        "marker": {
                          "colorbar": {
                            "outlinewidth": 0,
                            "ticks": ""
                          }
                        },
                        "type": "scattercarpet"
                      }
                    ],
                    "scattergeo": [
                      {
                        "marker": {
                          "colorbar": {
                            "outlinewidth": 0,
                            "ticks": ""
                          }
                        },
                        "type": "scattergeo"
                      }
                    ],
                    "scattergl": [
                      {
                        "marker": {
                          "colorbar": {
                            "outlinewidth": 0,
                            "ticks": ""
                          }
                        },
                        "type": "scattergl"
                      }
                    ],
                    "scattermap": [
                      {
                        "marker": {
                          "colorbar": {
                            "outlinewidth": 0,
                            "ticks": ""
                          }
                        },
                        "type": "scattermap"
                      }
                    ],
                    "scattermapbox": [
                      {
                        "marker": {
                          "colorbar": {
                            "outlinewidth": 0,
                            "ticks": ""
                          }
                        },
                        "type": "scattermapbox"
                      }
                    ],
                    "scatterpolar": [
                      {
                        "marker": {
                          "colorbar": {
                            "outlinewidth": 0,
                            "ticks": ""
                          }
                        },
                        "type": "scatterpolar"
                      }
                    ],
                    "scatterpolargl": [
                      {
                        "marker": {
                          "colorbar": {
                            "outlinewidth": 0,
                            "ticks": ""
                          }
                        },
                        "type": "scatterpolargl"
                      }
                    ],
                    "scatterternary": [
                      {
                        "marker": {
                          "colorbar": {
                            "outlinewidth": 0,
                            "ticks": ""
                          }
                        },
                        "type": "scatterternary"
                      }
                    ],
                    "surface": [
                      {
                        "colorbar": {
                          "outlinewidth": 0,
                          "ticks": ""
                        },
                        "colorscale": [
                          [
                            0,
                            "#0d0887"
                          ],
                          [
                            0.1111111111111111,
                            "#46039f"
                          ],
                          [
                            0.2222222222222222,
                            "#7201a8"
                          ],
                          [
                            0.3333333333333333,
                            "#9c179e"
                          ],
                          [
                            0.4444444444444444,
                            "#bd3786"
                          ],
                          [
                            0.5555555555555556,
                            "#d8576b"
                          ],
                          [
                            0.6666666666666666,
                            "#ed7953"
                          ],
                          [
                            0.7777777777777778,
                            "#fb9f3a"
                          ],
                          [
                            0.8888888888888888,
                            "#fdca26"
                          ],
                          [
                            1,
                            "#f0f921"
                          ]
                        ],
                        "type": "surface"
                      }
                    ],
                    "table": [
                      {
                        "cells": {
                          "fill": {
                            "color": "#EBF0F8"
                          },
                          "line": {
                            "color": "white"
                          }
                        },
                        "header": {
                          "fill": {
                            "color": "#C8D4E3"
                          },
                          "line": {
                            "color": "white"
                          }
                        },
                        "type": "table"
                      }
                    ]
                  },
                  "layout": {
                    "annotationdefaults": {
                      "arrowcolor": "#2a3f5f",
                      "arrowhead": 0,
                      "arrowwidth": 1
                    },
                    "autotypenumbers": "strict",
                    "coloraxis": {
                      "colorbar": {
                        "outlinewidth": 0,
                        "ticks": ""
                      }
                    },
                    "colorscale": {
                      "diverging": [
                        [
                          0,
                          "#8e0152"
                        ],
                        [
                          0.1,
                          "#c51b7d"
                        ],
                        [
                          0.2,
                          "#de77ae"
                        ],
                        [
                          0.3,
                          "#f1b6da"
                        ],
                        [
                          0.4,
                          "#fde0ef"
                        ],
                        [
                          0.5,
                          "#f7f7f7"
                        ],
                        [
                          0.6,
                          "#e6f5d0"
                        ],
                        [
                          0.7,
                          "#b8e186"
                        ],
                        [
                          0.8,
                          "#7fbc41"
                        ],
                        [
                          0.9,
                          "#4d9221"
                        ],
                        [
                          1,
                          "#276419"
                        ]
                      ],
                      "sequential": [
                        [
                          0,
                          "#0d0887"
                        ],
                        [
                          0.1111111111111111,
                          "#46039f"
                        ],
                        [
                          0.2222222222222222,
                          "#7201a8"
                        ],
                        [
                          0.3333333333333333,
                          "#9c179e"
                        ],
                        [
                          0.4444444444444444,
                          "#bd3786"
                        ],
                        [
                          0.5555555555555556,
                          "#d8576b"
                        ],
                        [
                          0.6666666666666666,
                          "#ed7953"
                        ],
                        [
                          0.7777777777777778,
                          "#fb9f3a"
                        ],
                        [
                          0.8888888888888888,
                          "#fdca26"
                        ],
                        [
                          1,
                          "#f0f921"
                        ]
                      ],
                      "sequentialminus": [
                        [
                          0,
                          "#0d0887"
                        ],
                        [
                          0.1111111111111111,
                          "#46039f"
                        ],
                        [
                          0.2222222222222222,
                          "#7201a8"
                        ],
                        [
                          0.3333333333333333,
                          "#9c179e"
                        ],
                        [
                          0.4444444444444444,
                          "#bd3786"
                        ],
                        [
                          0.5555555555555556,
                          "#d8576b"
                        ],
                        [
                          0.6666666666666666,
                          "#ed7953"
                        ],
                        [
                          0.7777777777777778,
                          "#fb9f3a"
                        ],
                        [
                          0.8888888888888888,
                          "#fdca26"
                        ],
                        [
                          1,
                          "#f0f921"
                        ]
                      ]
                    },
                    "colorway": [
                      "#636efa",
                      "#EF553B",
                      "#00cc96",
                      "#ab63fa",
                      "#FFA15A",
                      "#19d3f3",
                      "#FF6692",
                      "#B6E880",
                      "#FF97FF",
                      "#FECB52"
                    ],
                    "font": {
                      "color": "#2a3f5f"
                    },
                    "geo": {
                      "bgcolor": "white",
                      "lakecolor": "white",
                      "landcolor": "#E5ECF6",
                      "showlakes": true,
                      "showland": true,
                      "subunitcolor": "white"
                    },
                    "hoverlabel": {
                      "align": "left"
                    },
                    "hovermode": "closest",
                    "mapbox": {
                      "style": "light"
                    },
                    "paper_bgcolor": "white",
                    "plot_bgcolor": "#E5ECF6",
                    "polar": {
                      "angularaxis": {
                        "gridcolor": "white",
                        "linecolor": "white",
                        "ticks": ""
                      },
                      "bgcolor": "#E5ECF6",
                      "radialaxis": {
                        "gridcolor": "white",
                        "linecolor": "white",
                        "ticks": ""
                      }
                    },
                    "scene": {
                      "xaxis": {
                        "backgroundcolor": "#E5ECF6",
                        "gridcolor": "white",
                        "gridwidth": 2,
                        "linecolor": "white",
                        "showbackground": true,
                        "ticks": "",
                        "zerolinecolor": "white"
                      },
                      "yaxis": {
                        "backgroundcolor": "#E5ECF6",
                        "gridcolor": "white",
                        "gridwidth": 2,
                        "linecolor": "white",
                        "showbackground": true,
                        "ticks": "",
                        "zerolinecolor": "white"
                      },
                      "zaxis": {
                        "backgroundcolor": "#E5ECF6",
                        "gridcolor": "white",
                        "gridwidth": 2,
                        "linecolor": "white",
                        "showbackground": true,
                        "ticks": "",
                        "zerolinecolor": "white"
                      }
                    },
                    "shapedefaults": {
                      "line": {
                        "color": "#2a3f5f"
                      }
                    },
                    "ternary": {
                      "aaxis": {
                        "gridcolor": "white",
                        "linecolor": "white",
                        "ticks": ""
                      },
                      "baxis": {
                        "gridcolor": "white",
                        "linecolor": "white",
                        "ticks": ""
                      },
                      "bgcolor": "#E5ECF6",
                      "caxis": {
                        "gridcolor": "white",
                        "linecolor": "white",
                        "ticks": ""
                      }
                    },
                    "title": {
                      "x": 0.05
                    },
                    "xaxis": {
                      "automargin": true,
                      "gridcolor": "white",
                      "linecolor": "white",
                      "ticks": "",
                      "title": {
                        "standoff": 15
                      },
                      "zerolinecolor": "white",
                      "zerolinewidth": 2
                    },
                    "yaxis": {
                      "automargin": true,
                      "gridcolor": "white",
                      "linecolor": "white",
                      "ticks": "",
                      "title": {
                        "standoff": 15
                      },
                      "zerolinecolor": "white",
                      "zerolinewidth": 2
                    }
                  }
                }
              }
            }
          },
          "metadata": {},
          "output_type": "display_data"
        }
      ],
      "source": [
        "fig = go.Figure(data=[go.Bar(x=passengerspeed_midpts, y=passenger_counts, width=bin_width)])\n",
        "fig.show()"
      ]
    },
    {
      "cell_type": "code",
      "execution_count": 75,
      "metadata": {},
      "outputs": [
        {
          "data": {
            "text/html": [
              "<div>\n",
              "<style scoped>\n",
              "    .dataframe tbody tr th:only-of-type {\n",
              "        vertical-align: middle;\n",
              "    }\n",
              "\n",
              "    .dataframe tbody tr th {\n",
              "        vertical-align: top;\n",
              "    }\n",
              "\n",
              "    .dataframe thead th {\n",
              "        text-align: right;\n",
              "    }\n",
              "</style>\n",
              "<table border=\"1\" class=\"dataframe\">\n",
              "  <thead>\n",
              "    <tr style=\"text-align: right;\">\n",
              "      <th></th>\n",
              "      <th>Timestamp</th>\n",
              "      <th>Source</th>\n",
              "      <th>Speed</th>\n",
              "      <th>Course</th>\n",
              "      <th>Latitude</th>\n",
              "      <th>Longitude</th>\n",
              "      <th>Heading</th>\n",
              "    </tr>\n",
              "  </thead>\n",
              "  <tbody>\n",
              "    <tr>\n",
              "      <th>1345</th>\n",
              "      <td>18-03-24 0:11</td>\n",
              "      <td>Terr-AIS</td>\n",
              "      <td>9.0</td>\n",
              "      <td>59.0</td>\n",
              "      <td>1.245128</td>\n",
              "      <td>103.8485</td>\n",
              "      <td>Unknown</td>\n",
              "    </tr>\n",
              "    <tr>\n",
              "      <th>1346</th>\n",
              "      <td>18-03-24 0:08</td>\n",
              "      <td>Terr-AIS</td>\n",
              "      <td>9.2</td>\n",
              "      <td>49.0</td>\n",
              "      <td>1.240143</td>\n",
              "      <td>103.8428</td>\n",
              "      <td>Unknown</td>\n",
              "    </tr>\n",
              "    <tr>\n",
              "      <th>1347</th>\n",
              "      <td>18-03-24 0:06</td>\n",
              "      <td>Terr-AIS</td>\n",
              "      <td>8.4</td>\n",
              "      <td>57.0</td>\n",
              "      <td>1.237117</td>\n",
              "      <td>103.8389</td>\n",
              "      <td>Unknown</td>\n",
              "    </tr>\n",
              "    <tr>\n",
              "      <th>1348</th>\n",
              "      <td>18-03-24 0:04</td>\n",
              "      <td>Terr-AIS</td>\n",
              "      <td>7.8</td>\n",
              "      <td>72.0</td>\n",
              "      <td>1.234962</td>\n",
              "      <td>103.8344</td>\n",
              "      <td>Unknown</td>\n",
              "    </tr>\n",
              "    <tr>\n",
              "      <th>1349</th>\n",
              "      <td>18-03-24 0:01</td>\n",
              "      <td>Terr-AIS</td>\n",
              "      <td>8.2</td>\n",
              "      <td>107.0</td>\n",
              "      <td>1.235367</td>\n",
              "      <td>103.8296</td>\n",
              "      <td>Unknown</td>\n",
              "    </tr>\n",
              "  </tbody>\n",
              "</table>\n",
              "</div>"
            ],
            "text/plain": [
              "          Timestamp    Source  Speed  Course  Latitude  Longitude  Heading\n",
              "1345  18-03-24 0:11  Terr-AIS    9.0    59.0  1.245128   103.8485  Unknown\n",
              "1346  18-03-24 0:08  Terr-AIS    9.2    49.0  1.240143   103.8428  Unknown\n",
              "1347  18-03-24 0:06  Terr-AIS    8.4    57.0  1.237117   103.8389  Unknown\n",
              "1348  18-03-24 0:04  Terr-AIS    7.8    72.0  1.234962   103.8344  Unknown\n",
              "1349  18-03-24 0:01  Terr-AIS    8.2   107.0  1.235367   103.8296  Unknown"
            ]
          },
          "execution_count": 75,
          "metadata": {},
          "output_type": "execute_result"
        }
      ],
      "source": [
        "cargo_df.tail()"
      ]
    },
    {
      "cell_type": "code",
      "execution_count": 76,
      "metadata": {},
      "outputs": [
        {
          "data": {
            "text/plain": [
              "Timestamp      0\n",
              "Source         0\n",
              "Speed          0\n",
              "Course       431\n",
              "Latitude       0\n",
              "Longitude      0\n",
              "Heading        0\n",
              "dtype: int64"
            ]
          },
          "execution_count": 76,
          "metadata": {},
          "output_type": "execute_result"
        }
      ],
      "source": [
        "cargo_df.isnull().sum()"
      ]
    },
    {
      "cell_type": "code",
      "execution_count": 77,
      "metadata": {},
      "outputs": [
        {
          "data": {
            "text/html": [
              "<div>\n",
              "<style scoped>\n",
              "    .dataframe tbody tr th:only-of-type {\n",
              "        vertical-align: middle;\n",
              "    }\n",
              "\n",
              "    .dataframe tbody tr th {\n",
              "        vertical-align: top;\n",
              "    }\n",
              "\n",
              "    .dataframe thead th {\n",
              "        text-align: right;\n",
              "    }\n",
              "</style>\n",
              "<table border=\"1\" class=\"dataframe\">\n",
              "  <thead>\n",
              "    <tr style=\"text-align: right;\">\n",
              "      <th></th>\n",
              "      <th>Timestamp</th>\n",
              "      <th>Source</th>\n",
              "      <th>Speed</th>\n",
              "      <th>Course</th>\n",
              "      <th>Latitude</th>\n",
              "      <th>Longitude</th>\n",
              "      <th>Heading</th>\n",
              "    </tr>\n",
              "  </thead>\n",
              "  <tbody>\n",
              "    <tr>\n",
              "      <th>0</th>\n",
              "      <td>24-03-24 23:44</td>\n",
              "      <td>Terr-AIS</td>\n",
              "      <td>0.0</td>\n",
              "      <td>NaN</td>\n",
              "      <td>1.269968</td>\n",
              "      <td>103.8545</td>\n",
              "      <td>Unknown</td>\n",
              "    </tr>\n",
              "    <tr>\n",
              "      <th>1</th>\n",
              "      <td>24-03-24 23:23</td>\n",
              "      <td>Terr-AIS</td>\n",
              "      <td>0.0</td>\n",
              "      <td>NaN</td>\n",
              "      <td>1.270090</td>\n",
              "      <td>103.8544</td>\n",
              "      <td>Unknown</td>\n",
              "    </tr>\n",
              "    <tr>\n",
              "      <th>2</th>\n",
              "      <td>24-03-24 23:03</td>\n",
              "      <td>Terr-AIS</td>\n",
              "      <td>0.0</td>\n",
              "      <td>NaN</td>\n",
              "      <td>1.270070</td>\n",
              "      <td>103.8544</td>\n",
              "      <td>Unknown</td>\n",
              "    </tr>\n",
              "    <tr>\n",
              "      <th>3</th>\n",
              "      <td>24-03-24 22:41</td>\n",
              "      <td>Terr-AIS</td>\n",
              "      <td>0.1</td>\n",
              "      <td>NaN</td>\n",
              "      <td>1.270112</td>\n",
              "      <td>103.8544</td>\n",
              "      <td>Unknown</td>\n",
              "    </tr>\n",
              "    <tr>\n",
              "      <th>4</th>\n",
              "      <td>24-03-24 22:20</td>\n",
              "      <td>Terr-AIS</td>\n",
              "      <td>0.0</td>\n",
              "      <td>NaN</td>\n",
              "      <td>1.270002</td>\n",
              "      <td>103.8545</td>\n",
              "      <td>Unknown</td>\n",
              "    </tr>\n",
              "    <tr>\n",
              "      <th>...</th>\n",
              "      <td>...</td>\n",
              "      <td>...</td>\n",
              "      <td>...</td>\n",
              "      <td>...</td>\n",
              "      <td>...</td>\n",
              "      <td>...</td>\n",
              "      <td>...</td>\n",
              "    </tr>\n",
              "    <tr>\n",
              "      <th>1310</th>\n",
              "      <td>18-03-24 3:07</td>\n",
              "      <td>Terr-AIS</td>\n",
              "      <td>0.5</td>\n",
              "      <td>NaN</td>\n",
              "      <td>1.262753</td>\n",
              "      <td>103.8956</td>\n",
              "      <td>Unknown</td>\n",
              "    </tr>\n",
              "    <tr>\n",
              "      <th>1319</th>\n",
              "      <td>18-03-24 2:11</td>\n",
              "      <td>Terr-AIS</td>\n",
              "      <td>0.1</td>\n",
              "      <td>NaN</td>\n",
              "      <td>1.262807</td>\n",
              "      <td>103.8956</td>\n",
              "      <td>Unknown</td>\n",
              "    </tr>\n",
              "    <tr>\n",
              "      <th>1320</th>\n",
              "      <td>18-03-24 2:08</td>\n",
              "      <td>Terr-AIS</td>\n",
              "      <td>0.2</td>\n",
              "      <td>NaN</td>\n",
              "      <td>1.262815</td>\n",
              "      <td>103.8956</td>\n",
              "      <td>Unknown</td>\n",
              "    </tr>\n",
              "    <tr>\n",
              "      <th>1332</th>\n",
              "      <td>18-03-24 0:59</td>\n",
              "      <td>Terr-AIS</td>\n",
              "      <td>0.0</td>\n",
              "      <td>NaN</td>\n",
              "      <td>1.262693</td>\n",
              "      <td>103.8958</td>\n",
              "      <td>Unknown</td>\n",
              "    </tr>\n",
              "    <tr>\n",
              "      <th>1333</th>\n",
              "      <td>18-03-24 0:37</td>\n",
              "      <td>Terr-AIS</td>\n",
              "      <td>0.2</td>\n",
              "      <td>NaN</td>\n",
              "      <td>1.262582</td>\n",
              "      <td>103.8957</td>\n",
              "      <td>Unknown</td>\n",
              "    </tr>\n",
              "  </tbody>\n",
              "</table>\n",
              "<p>431 rows × 7 columns</p>\n",
              "</div>"
            ],
            "text/plain": [
              "           Timestamp    Source  Speed  Course  Latitude  Longitude  Heading\n",
              "0     24-03-24 23:44  Terr-AIS    0.0     NaN  1.269968   103.8545  Unknown\n",
              "1     24-03-24 23:23  Terr-AIS    0.0     NaN  1.270090   103.8544  Unknown\n",
              "2     24-03-24 23:03  Terr-AIS    0.0     NaN  1.270070   103.8544  Unknown\n",
              "3     24-03-24 22:41  Terr-AIS    0.1     NaN  1.270112   103.8544  Unknown\n",
              "4     24-03-24 22:20  Terr-AIS    0.0     NaN  1.270002   103.8545  Unknown\n",
              "...              ...       ...    ...     ...       ...        ...      ...\n",
              "1310   18-03-24 3:07  Terr-AIS    0.5     NaN  1.262753   103.8956  Unknown\n",
              "1319   18-03-24 2:11  Terr-AIS    0.1     NaN  1.262807   103.8956  Unknown\n",
              "1320   18-03-24 2:08  Terr-AIS    0.2     NaN  1.262815   103.8956  Unknown\n",
              "1332   18-03-24 0:59  Terr-AIS    0.0     NaN  1.262693   103.8958  Unknown\n",
              "1333   18-03-24 0:37  Terr-AIS    0.2     NaN  1.262582   103.8957  Unknown\n",
              "\n",
              "[431 rows x 7 columns]"
            ]
          },
          "execution_count": 77,
          "metadata": {},
          "output_type": "execute_result"
        }
      ],
      "source": [
        "cargo_df[cargo_df.isnull().any(axis=1)]"
      ]
    },
    {
      "cell_type": "code",
      "execution_count": 78,
      "metadata": {},
      "outputs": [
        {
          "data": {
            "application/vnd.plotly.v1+json": {
              "config": {
                "plotlyServerURL": "https://plot.ly"
              },
              "data": [
                {
                  "bingroup": "x",
                  "hovertemplate": "Speed=%{x}<br>count=%{y}<extra></extra>",
                  "legendgroup": "",
                  "marker": {
                    "color": "#636efa",
                    "pattern": {
                      "shape": ""
                    }
                  },
                  "name": "",
                  "orientation": "v",
                  "showlegend": false,
                  "type": "histogram",
                  "x": {
                    "bdata": "AAAAAAAAAAAAAAAAAAAAAAAAAAAAAAAAmpmZmZmZuT8AAAAAAAAAAAAAAAAAAAAAAAAAAAAAAAAAAAAAAAAAAAAAAAAAAAAAmpmZmZmZuT8AAAAAAAAAADMzMzMzM9M/AAAAAAAADEBmZmZmZmYcQGZmZmZmZhxAmpmZmZmZG0AAAAAAAAAcQAAAAAAAABxAzczMzMzMHEDNzMzMzMwcQM3MzMzMzBxAMzMzMzMzHUAzMzMzMzMdQJqZmZmZmR1AzczMzMzMHEDNzMzMzMwcQDMzMzMzMx1AMzMzMzMzHUCamZmZmZkdQDMzMzMzMx1AmpmZmZmZHUCamZmZmZkdQJqZmZmZmR1AmpmZmZmZHUCamZmZmZkdQAAAAAAAAB5AAAAAAAAAHkCamZmZmZkdQJqZmZmZmR1AmpmZmZmZHUAAAAAAAAAeQAAAAAAAAB5AmpmZmZmZHUAAAAAAAAAeQAAAAAAAAB5AzczMzMzMHEAAAAAAAADwP5qZmZmZmck/AAAAAAAA4D+amZmZmZm5P5qZmZmZmbk/mpmZmZmZuT8AAAAAAAAAAJqZmZmZmbk/mpmZmZmZuT+amZmZmZm5P5qZmZmZmbk/mpmZmZmZuT8AAAAAAAAAADMzMzMzM9M/AAAAAAAA+D9mZmZmZmbmP2ZmZmZmZg5AmpmZmZmZyT8AAAAAAAAAAAAAAAAAAAAAmpmZmZmZyT+amZmZmZm5PzMzMzMzM+M/AAAAAAAA4D8zMzMzMzPTPzMzMzMzMxFAzczMzMzMGEBmZmZmZmYYQGZmZmZmZhhAzczMzMzMGEAzMzMzMzMZQM3MzMzMzBhAmpmZmZmZGUDNzMzMzMwYQGZmZmZmZhhAAAAAAAAAGECamZmZmZkZQM3MzMzMzBhAZmZmZmZmGEDNzMzMzMwYQAAAAAAAABZAMzMzMzMzGUAAAAAAAAAaQDMzMzMzMxlAZmZmZmZmGEAAAAAAAAAYQDMzMzMzMxlAzczMzMzMGEDNzMzMzMwYQDMzMzMzMxlAzczMzMzMGEAzMzMzMzMZQJqZmZmZmRdAAAAAAAAAGEDNzMzMzMwYQDMzMzMzMxlAMzMzMzMzGUAAAAAAAAAaQM3MzMzMzBhAMzMzMzMzGUAzMzMzMzMZQJqZmZmZmRdAZmZmZmZmGEAAAAAAAAAaQJqZmZmZmRNAZmZmZmZm9j+amZmZmZkBQGZmZmZmZhRAzczMzMzM9D8AAAAAAAAAAJqZmZmZmbk/mpmZmZmZuT8zMzMzMzPTPzMzMzMzMxlAZmZmZmZm5j8AAAAAAADgPwAAAAAAAOA/AAAAAAAAAAAzMzMzMzPjPwAAAAAAAAAAmpmZmZmZuT8AAAAAAAAAAJqZmZmZmek/AAAAAAAA4D8AAAAAAADgPwAAAAAAAAAAAAAAAAAAAAAAAAAAAADgP5qZmZmZmck/mpmZmZmZ2T+amZmZmZnJPwAAAAAAAOA/AAAAAAAA4D8AAAAAAADgP5qZmZmZmbk/mpmZmZmZuT+amZmZmZnJP5qZmZmZmbk/MzMzMzMz4z8zMzMzMzPjP5qZmZmZmdk/AAAAAAAA4D8AAAAAAADgPwAAAAAAAOA/AAAAAAAA4D+amZmZmZnJPwAAAAAAAOA/ZmZmZmZm5j9mZmZmZmbmP5qZmZmZmbk/mpmZmZmZuT8AAAAAAADgPwAAAAAAAOA/mpmZmZmZ2T8zMzMzMzPjP5qZmZmZmbk/AAAAAAAAAAAAAAAAAAAAAAAAAAAAAOA/AAAAAAAAAACamZmZmZm5PwAAAAAAAAAAAAAAAAAAAAAAAAAAAAAAAAAAAAAAAAAAAAAAAAAAAACamZmZmZm5PwAAAAAAAAAAAAAAAAAAAAAAAAAAAAAAAAAAAAAAAAAAmpmZmZmZuT8AAAAAAAAAAJqZmZmZmbk/AAAAAAAAAAAAAAAAAAAAAJqZmZmZmbk/AAAAAAAAAACamZmZmZm5PwAAAAAAAAAAmpmZmZmZuT8AAAAAAAAAAJqZmZmZmbk/ZmZmZmZm5j+amZmZmZm5P2ZmZmZmZhRAmpmZmZmZ6T8AAAAAAADgPwAAAAAAAOA/mpmZmZmZ6T8zMzMzMzPjP83MzMzMzOw/MzMzMzMz4z9mZmZmZmbmPwAAAAAAAPA/AAAAAAAA4D9mZmZmZmb2P5qZmZmZmek/mpmZmZmZ8T8zMzMzMzPjPzMzMzMzM+M/mpmZmZmZ8T+amZmZmZnJPzMzMzMzM9M/AAAAAAAA4D9mZmZmZmbmP5qZmZmZmQ1AmpmZmZmZ6T8zMzMzMzPTP5qZmZmZmek/ZmZmZmZm5j+amZmZmZm5P5qZmZmZmbk/mpmZmZmZuT8AAAAAAADgPwAAAAAAAOA/AAAAAAAA4D+amZmZmZm5PwAAAAAAAOA/mpmZmZmZyT+amZmZmZm5PzMzMzMzM9M/mpmZmZmZuT8AAAAAAAAAADMzMzMzM+M/mpmZmZmZuT+amZmZmZm5PwAAAAAAAAAAmpmZmZmZyT+amZmZmZkTQGZmZmZmZhxAzczMzMzMHEBmZmZmZmYaQDMzMzMzMxlAzczMzMzMGEDNzMzMzMwYQGZmZmZmZhpAmpmZmZmZFUDNzMzMzMzsPwAAAAAAAAAAAAAAAAAA4D+amZmZmZm5PwAAAAAAAOA/AAAAAAAA4D8AAAAAAAAAAJqZmZmZmck/mpmZmZmZuT8AAAAAAADgPzMzMzMzM9M/MzMzMzMz8z8AAAAAAAAUQJqZmZmZmfE/MzMzMzMzD0DNzMzMzMwYQJqZmZmZmRFAZmZmZmZmBkCamZmZmZkfQJqZmZmZmR9AAAAAAAAAHkBmZmZmZmYcQJqZmZmZmRtAMzMzMzMz+z8AAAAAAADgPwAAAAAAAAAAmpmZmZmZuT+amZmZmZm5PwAAAAAAAOA/MzMzMzMz4z8AAAAAAADgP2ZmZmZmZuY/ZmZmZmZm5j9mZmZmZmbmP83MzMzMzBBAmpmZmZmZG0DNzMzMzMwaQJqZmZmZmR1AAAAAAAAAHkBmZmZmZmYcQM3MzMzMzBpAMzMzMzMzGUDNzMzMzMwYQJqZmZmZmRdAZmZmZmZmFkAzMzMzMzMdQGZmZmZmZh5AmpmZmZmZHUAzMzMzMzMdQDMzMzMzMx1AMzMzMzMzHUBmZmZmZmYcQAAAAAAAABxAAAAAAAAAHEBmZmZmZmYcQGZmZmZmZhpAMzMzMzMzG0CamZmZmZkZQAAAAAAAAB5AMzMzMzMzHUAAAAAAAAAcQM3MzMzMzBpAAAAAAAAAHECamZmZmZkbQDMzMzMzMxtAZmZmZmZmGkBmZmZmZmYcQAAAAAAAABxAAAAAAAAAHEBmZmZmZmYcQJqZmZmZmRtAAAAAAAAAHEBmZmZmZmYcQM3MzMzMzBpAzczMzMzM9D8AAAAAAAAAAJqZmZmZmbk/AAAAAAAA+D8zMzMzMzPTPzMzMzMzM+M/MzMzMzMz0z8zMzMzMzMPQM3MzMzMzBxAzczMzMzMHEDNzMzMzMwcQDMzMzMzMx1AzczMzMzMHEDNzMzMzMwcQAAAAAAAAB5AZmZmZmZmHkDNzMzMzMweQGZmZmZmZh5AzczMzMzMHkDNzMzMzMweQDMzMzMzMx9AmpmZmZmZHUCamZmZmZkbQJqZmZmZmR9AzczMzMzMIEAzMzMzMzMfQJqZmZmZmR9AmpmZmZmZIECamZmZmZkgQDMzMzMzMyBAZmZmZmZmIEAzMzMzMzMfQAAAAAAAABxAMzMzMzMzHUCamZmZmZkdQM3MzMzMzCRAZmZmZmZmJEAAAAAAAAAjQM3MzMzMzCBAmpmZmZmZIEAzMzMzMzMhQAAAAAAAACFAzczMzMzMIEAAAAAAAAAgQDMzMzMzM+M/zczMzMzM9D+amZmZmZm5P5qZmZmZmbk/mpmZmZmZuT8AAAAAAAAAAJqZmZmZmek/AAAAAAAAAACamZmZmZm5P5qZmZmZmbk/mpmZmZmZyT8AAAAAAADgP5qZmZmZmek/ZmZmZmZmFEBmZmZmZmYYQJqZmZmZmRlAZmZmZmZmGkCamZmZmZkZQM3MzMzMzBhAZmZmZmZm/j9mZmZmZmb+PzMzMzMzM+M/AAAAAAAAAAAAAAAAAAAAAM3MzMzMzBZAmpmZmZmZ+T8AAAAAAAAAAM3MzMzMzOw/AAAAAAAA4D9mZmZmZmbmPwAAAAAAAAAAAAAAAAAAAAAAAAAAAAAAAJqZmZmZmbk/mpmZmZmZyT+amZmZmZm5P5qZmZmZmbk/AAAAAAAA4D8AAAAAAAAAAAAAAAAAAOA/AAAAAAAA4D8zMzMzMzPjP5qZmZmZmck/AAAAAAAA4D8zMzMzMzPjPwAAAAAAAOA/MzMzMzMz4z8zMzMzMzPTPwAAAAAAAOA/MzMzMzMz4z8zMzMzMzPTPwAAAAAAAOA/MzMzMzMz4z8AAAAAAAAAADMzMzMzM+M/ZmZmZmZm5j8zMzMzMzPjPwAAAAAAAOA/MzMzMzMz4z8AAAAAAADgPwAAAAAAAOA/MzMzMzMz4z8AAAAAAADgPwAAAAAAAOA/MzMzMzMz4z9mZmZmZmbmPzMzMzMzM9M/AAAAAAAAAABmZmZmZmbmPwAAAAAAAOA/AAAAAAAA4D8zMzMzMzPjPwAAAAAAAOA/AAAAAAAA4D+amZmZmZnxPzMzMzMzM+M/zczMzMzM7D8AAAAAAADgPwAAAAAAAOA/MzMzMzMz4z8AAAAAAADgPwAAAAAAAOA/mpmZmZmZuT8AAAAAAADgP83MzMzMzOw/mpmZmZmZuT8AAAAAAAAAADMzMzMzM+M/zczMzMzMGkBmZmZmZmbmPwAAAAAAABhAmpmZmZmZHUBmZmZmZmYcQAAAAAAAABpAmpmZmZmZGUAzMzMzMzMZQDMzMzMzMxlAmpmZmZmZGUAzMzMzMzMZQDMzMzMzMxlAAAAAAAAADEDNzMzMzMzsPzMzMzMzM+M/MzMzMzMz4z8AAAAAAADgPwAAAAAAAOA/AAAAAAAA4D8AAAAAAADgPwAAAAAAAAAAZmZmZmZm5j8AAAAAAADgPwAAAAAAAOA/AAAAAAAA4D8zMzMzMzPjP5qZmZmZmck/AAAAAAAA4D8AAAAAAADgPwAAAAAAAOA/AAAAAAAA4D9mZmZmZmbmPzMzMzMzM+M/ZmZmZmZm5j8AAAAAAADgP5qZmZmZmbk/mpmZmZmZ8T8AAAAAAADwP83MzMzMzBJAAAAAAAAAHkBmZmZmZmYeQJqZmZmZmR9AMzMzMzMzH0BmZmZmZmYgQJqZmZmZmR9AmpmZmZmZG0BmZmZmZmYaQGZmZmZmZhpAMzMzMzMzE0AAAAAAAADgP5qZmZmZmck/AAAAAAAAAAAAAAAAAADwP2ZmZmZmZhZAmpmZmZmZ8T8zMzMzMzPjPwAAAAAAAOA/AAAAAAAA4D8AAAAAAAAAADMzMzMzM+M/ZmZmZmZm5j9mZmZmZmbmPwAAAAAAAAAAMzMzMzMz0z8AAAAAAADgP5qZmZmZmbk/MzMzMzMz4z8AAAAAAADgPwAAAAAAAOA/AAAAAAAA4D+amZmZmZm5PwAAAAAAAAAAAAAAAAAA4D8AAAAAAADgP5qZmZmZmbk/AAAAAAAAAAAAAAAAAAAAAAAAAAAAAAAAAAAAAAAAAAAAAAAAAAAAAAAAAAAAAAAAAAAAAAAAAACamZmZmZm5PwAAAAAAAAAAAAAAAAAAAACamZmZmZm5PzMzMzMzM+M/AAAAAAAA4D8zMzMzMzMRQM3MzMzMzOw/MzMzMzMzB0AAAAAAAAAcQJqZmZmZmRtAmpmZmZmZG0DNzMzMzMwcQM3MzMzMzB5AzczMzMzMHkAzMzMzMzMfQDMzMzMzMx9AMzMzMzMzH0AzMzMzMzMfQJqZmZmZmR9AmpmZmZmZH0CamZmZmZkfQAAAAAAAACBAmpmZmZmZH0AAAAAAAAAgQJqZmZmZmR9AmpmZmZmZH0AAAAAAAAAUQAAAAAAAAOA/MzMzMzMz4z9mZmZmZmbmPwAAAAAAAAAAAAAAAAAAAAAAAAAAAAAAAAAAAAAAAAAAmpmZmZmZuT8AAAAAAAAAAJqZmZmZmbk/AAAAAAAAAACamZmZmZkNQM3MzMzMzPQ/ZmZmZmZm5j8AAAAAAADgPwAAAAAAAOA/ZmZmZmZm5j8AAAAAAADgPzMzMzMzM+M/mpmZmZmZyT+amZmZmZnZP2ZmZmZmZuY/AAAAAAAA8D8AAAAAAADgP2ZmZmZmZuY/mpmZmZmZ6T+amZmZmZnxP2ZmZmZmZuY/mpmZmZmZ6T+amZmZmZnxP83MzMzMzAhAZmZmZmZmCkAAAAAAAAAIQAAAAAAAAAhAMzMzMzMzB0AAAAAAAAAIQJqZmZmZmQlAMzMzMzMzB0CamZmZmZkJQM3MzMzMzBJAzczMzMzMFEAAAAAAAAAWQAAAAAAAABZAAAAAAAAAFkAzMzMzMzMVQJqZmZmZmRVAmpmZmZmZF0CamZmZmZkVQJqZmZmZmRVAMzMzMzMzF0AzMzMzMzMXQAAAAAAAABJAAAAAAAAAEkDNzMzMzMwSQDMzMzMzMxFAZmZmZmZmEkAzMzMzMzMTQDMzMzMzMxdAzczMzMzMFkDNzMzMzMwUQJqZmZmZmRVAZmZmZmZmEEDNzMzMzMwAQGZmZmZmZuY/MzMzMzMz4z8AAAAAAADgPwAAAAAAAAAAAAAAAAAA4D8zMzMzMzPjP5qZmZmZmfE/mpmZmZmZ6T9mZmZmZmYWQAAAAAAAAOA/MzMzMzMz4z8AAAAAAADgP5qZmZmZmek/AAAAAAAA4D8zMzMzMzPjP2ZmZmZmZuY/mpmZmZmZuT8AAAAAAADgPwAAAAAAAOA/mpmZmZmZyT8zMzMzMzPjP2ZmZmZmZuY/AAAAAAAA4D8zMzMzMzPjPwAAAAAAAOA/AAAAAAAA4D9mZmZmZmbmPwAAAAAAAOA/MzMzMzMz4z8AAAAAAADgPwAAAAAAAOA/AAAAAAAA4D+amZmZmZnJPwAAAAAAAOA/mpmZmZmZyT8AAAAAAADgPwAAAAAAAOA/AAAAAAAA4D+amZmZmZnZPwAAAAAAAOA/AAAAAAAA4D8AAAAAAAAAAAAAAAAAAOA/AAAAAAAA4D8AAAAAAADgPwAAAAAAAOA/mpmZmZmZyT+amZmZmZnJPwAAAAAAAOA/mpmZmZmZuT8AAAAAAAAAAAAAAAAAAOA/AAAAAAAAAACamZmZmZnJPwAAAAAAAAAAmpmZmZmZuT+amZmZmZm5P5qZmZmZmbk/AAAAAAAAAAAAAAAAAADgP5qZmZmZmbk/AAAAAAAAAAAAAAAAAADgPzMzMzMzM+M/AAAAAAAAAABmZmZmZmbmP2ZmZmZmZuY/AAAAAAAA4D8zMzMzMzPjPzMzMzMzM+M/ZmZmZmZm5j+amZmZmZm5P5qZmZmZmbk/mpmZmZmZyT8AAAAAAAAAADMzMzMzM+M/AAAAAAAA4D8zMzMzMzPjPwAAAAAAAOA/mpmZmZmZyT8AAAAAAADgPwAAAAAAAOA/mpmZmZmZuT+amZmZmZm5PwAAAAAAAAAAmpmZmZmZuT8AAAAAAAAAAAAAAAAAAAAAmpmZmZmZuT8AAAAAAAAAAAAAAAAAAOA/AAAAAAAAAAAAAAAAAAAAAJqZmZmZmbk/mpmZmZmZuT8zMzMzMzPTP5qZmZmZmbk/AAAAAAAAAACamZmZmZm5PwAAAAAAAAAAAAAAAAAAAACamZmZmZm5P5qZmZmZmck/MzMzMzMz4z+amZmZmZnJP5qZmZmZmbk/ZmZmZmZm5j8AAAAAAADgPzMzMzMzM+M/AAAAAAAA4D8AAAAAAADgP5qZmZmZmbk/AAAAAAAA4D8AAAAAAADgPwAAAAAAAOA/ZmZmZmZm5j8zMzMzMzPjPwAAAAAAAOA/ZmZmZmZm5j8AAAAAAAAAAAAAAAAAAOA/MzMzMzMz4z/NzMzMzMzsPwAAAAAAAOA/AAAAAAAA4D/NzMzMzMwAQM3MzMzMzPQ/mpmZmZmZ6T+amZmZmZnZPzMzMzMzM9M/mpmZmZmZuT8AAAAAAADwPwAAAAAAAAAAMzMzMzMz4z8AAAAAAADgPzMzMzMzM/M/mpmZmZmZ6T8AAAAAAADgP5qZmZmZmck/mpmZmZmZFUAAAAAAAADgPwAAAAAAAOA/AAAAAAAA8D8AAAAAAADgP2ZmZmZmZuY/AAAAAAAA4D8AAAAAAADgPwAAAAAAAOA/mpmZmZmZ8T8zMzMzMzPjPwAAAAAAAOA/MzMzMzMz0z8AAAAAAADgPwAAAAAAAAAAAAAAAAAA4D8AAAAAAADgP2ZmZmZmZuY/mpmZmZmZyT8AAAAAAADgPwAAAAAAAOA/MzMzMzMz4z8AAAAAAADgPwAAAAAAAOA/AAAAAAAA4D8AAAAAAADgPwAAAAAAAOA/AAAAAAAA4D8AAAAAAADgPwAAAAAAAOA/AAAAAAAA4D+amZmZmZm5PzMzMzMzM9M/mpmZmZmZuT+amZmZmZnJPzMzMzMzM9M/mpmZmZmZ8T8zMzMzMzPjPwAAAAAAAOA/AAAAAAAA4D9mZmZmZmbmP5qZmZmZmek/ZmZmZmZm5j+amZmZmZm5P5qZmZmZmck/ZmZmZmZm5j+amZmZmZm5PzMzMzMzM+M/AAAAAAAA4D9mZmZmZmbmP5qZmZmZmck/MzMzMzMz4z8AAAAAAADgP2ZmZmZmZuY/AAAAAAAA4D+amZmZmZnJP5qZmZmZmdk/MzMzMzMz0z+amZmZmZm5P5qZmZmZmdk/mpmZmZmZuT8AAAAAAADgP83MzMzMzOw/mpmZmZmZ6T+amZmZmZnJPzMzMzMzM/M/zczMzMzM9D+amZmZmZkNQAAAAAAAABxAzczMzMzMHkAzMzMzMzMfQGZmZmZmZh5AZmZmZmZmHEAAAAAAAAAcQGZmZmZmZhxAMzMzMzMzHUAzMzMzMzMdQM3MzMzMzBxAzczMzMzMGkAzMzMzMzMbQM3MzMzMzBpAMzMzMzMzGUAAAAAAAAAQQJqZmZmZmfE/AAAAAAAA4D9mZmZmZmbmPwAAAAAAAOA/mpmZmZmZuT/NzMzMzMzsP83MzMzMzOw/mpmZmZmZ2T8zMzMzMzPTP5qZmZmZmfE/ZmZmZmZm5j8AAAAAAADgP5qZmZmZmek/mpmZmZmZ6T8zMzMzMzPjP83MzMzMzOw/MzMzMzMz4z8AAAAAAADwPzMzMzMzM+M/mpmZmZmZ2T/NzMzMzMzsPwAAAAAAAOA/AAAAAAAA4D8zMzMzMzPjPwAAAAAAAOA/ZmZmZmZm5j8zMzMzMzPjP5qZmZmZmck/MzMzMzMz4z9mZmZmZmbmPwAAAAAAAAAAMzMzMzMz0z8zMzMzMzPTP5qZmZmZmdk/AAAAAAAA4D8AAAAAAADgPzMzMzMzM+M/MzMzMzMz4z9mZmZmZmbmP2ZmZmZmZuY/AAAAAAAA4D8AAAAAAADgPzMzMzMzM+M/AAAAAAAA4D9mZmZmZmbmPzMzMzMzM+M/ZmZmZmZm5j8AAAAAAADgPwAAAAAAAOA/MzMzMzMz4z8zMzMzMzPjPwAAAAAAAOA/AAAAAAAA4D8zMzMzMzPjPzMzMzMzM+M/MzMzMzMz8z8AAAAAAADgP2ZmZmZmZuY/AAAAAAAA4D+amZmZmZnpP2ZmZmZmZuY/mpmZmZmZ6T9mZmZmZmbmPwAAAAAAAOA/AAAAAAAA4D8AAAAAAADgPwAAAAAAAOA/mpmZmZmZ2T8AAAAAAAD4PzMzMzMzM+M/MzMzMzMz4z8AAAAAAADgP5qZmZmZmek/AAAAAAAA4D+amZmZmZnZPwAAAAAAAOA/MzMzMzMz0z+amZmZmZm5PwAAAAAAAAAAAAAAAAAA4D8AAAAAAADgPwAAAAAAAOA/AAAAAAAA4D9mZmZmZmbmPwAAAAAAAOA/mpmZmZmZuT+amZmZmZm5PwAAAAAAAOA/ZmZmZmZm5j8AAAAAAADgP5qZmZmZmck/ZmZmZmZm5j+amZmZmZnxPzMzMzMzM9M/mpmZmZmZyT+amZmZmZm5P2ZmZmZmZuY/AAAAAAAA4D/NzMzMzMzsP5qZmZmZmfE/MzMzMzMz4z9mZmZmZmbmP5qZmZmZmbk/AAAAAAAAAAAzMzMzMzMHQDMzMzMzM+M/AAAAAAAA4D8AAAAAAADgP5qZmZmZmck/AAAAAAAA4D+amZmZmZnZP5qZmZmZmbk/mpmZmZmZuT+amZmZmZm5P83MzMzMzOw/mpmZmZmZHUAAAAAAAAAeQDMzMzMzMx1AmpmZmZmZHUBmZmZmZmYcQM3MzMzMzBxAmpmZmZmZHUAAAAAAAAAeQDMzMzMzMx1AZmZmZmZmHkAAAAAAAAAeQM3MzMzMzBxAmpmZmZmZG0AAAAAAAAASQDMzMzMzMwdAZmZmZmZm5j8AAAAAAAAAAJqZmZmZmfE/zczMzMzM/D8AAAAAAADgPzMzMzMzM/M/zczMzMzMCECamZmZmZnpPwAAAAAAAAAAMzMzMzMz4z/NzMzMzMz0P5qZmZmZmbk/AAAAAAAAAAAAAAAAAAAAAJqZmZmZmck/AAAAAAAAAACamZmZmZm5PwAAAAAAAAAAAAAAAAAA4D8AAAAAAADgPwAAAAAAAOA/mpmZmZmZ6T8AAAAAAADgPwAAAAAAAOA/MzMzMzMz0z9mZmZmZmYaQJqZmZmZmRtAmpmZmZmZG0CamZmZmZkbQGZmZmZmZiBAmpmZmZmZH0AAAAAAAAAgQDMzMzMzMyBAAAAAAAAAIEAAAAAAAAAgQJqZmZmZmR9AAAAAAAAAIEAAAAAAAAAgQGZmZmZmZiBAZmZmZmZmIEAzMzMzMzMgQGZmZmZmZiBAmpmZmZmZIECamZmZmZkfQAAAAAAAACBAZmZmZmZmIECamZmZmZkgQAAAAAAAACBAMzMzMzMzIEBmZmZmZmYgQGZmZmZmZiBAmpmZmZmZH0AAAAAAAAD4P2ZmZmZmZv4/AAAAAAAA4D+amZmZmZm5P5qZmZmZmck/AAAAAAAA4D9mZmZmZmbmPzMzMzMzM+M/AAAAAAAA4D8AAAAAAADgPwAAAAAAAOA/MzMzMzMz4z8zMzMzMzPjPwAAAAAAAOA/mpmZmZmZyT8AAAAAAAAAAJqZmZmZmbk/MzMzMzMz4z8AAAAAAAAAADMzMzMzM9M/MzMzMzMz4z8AAAAAAADgP5qZmZmZmdk/mpmZmZmZ2T+amZmZmZnxPzMzMzMzM+M/zczMzMzM7D8AAAAAAADgPwAAAAAAAOA/mpmZmZmZuT8zMzMzMzPTP5qZmZmZmbk/MzMzMzMz0z9mZmZmZmbmPzMzMzMzM+M/MzMzMzMz0z9mZmZmZmbmP5qZmZmZmek/ZmZmZmZm5j8zMzMzMzPjP5qZmZmZmek/AAAAAAAA4D9mZmZmZmbmP5qZmZmZmbk/mpmZmZmZyT8AAAAAAADgPzMzMzMzM+M/AAAAAAAA4D8AAAAAAADgPwAAAAAAAOA/MzMzMzMz4z8AAAAAAADgPzMzMzMzM9M/mpmZmZmZ2T8AAAAAAADgP5qZmZmZmck/mpmZmZmZyT+amZmZmZnZP5qZmZmZmck/MzMzMzMz0z8AAAAAAAAAAJqZmZmZmck/mpmZmZmZyT8AAAAAAADgP2ZmZmZmZhBAMzMzMzMzHUCamZmZmZkdQJqZmZmZmRtAZmZmZmZmHkBmZmZmZmYeQJqZmZmZmR1AzczMzMzMHEAzMzMzMzMdQJqZmZmZmR9AAAAAAAAAIEAAAAAAAAAgQAAAAAAAABxAZmZmZmZmHkCamZmZmZkdQDMzMzMzMx9AZmZmZmZmHEAAAAAAAAAcQM3MzMzMzBxAAAAAAAAAHEAzMzMzMzMbQJqZmZmZmRtAmpmZmZmZG0AzMzMzMzMbQDMzMzMzMxtAmpmZmZmZG0CamZmZmZkbQAAAAAAAABpAZmZmZmZmGkAAAAAAAAAaQJqZmZmZmRtAAAAAAAAA8D9mZmZmZmb+P83MzMzMzPQ/mpmZmZmZyT8AAAAAAADwP5qZmZmZmbk/MzMzMzMz0z8zMzMzMzMHQAAAAAAAAOA/zczMzMzM7D8AAAAAAADgPwAAAAAAAOA/mpmZmZmZ6T+amZmZmZnxPwAAAAAAAOA/MzMzMzMz4z8AAAAAAADgP5qZmZmZmbk/AAAAAAAA4D8AAAAAAAAAAJqZmZmZmbk/AAAAAAAAAAAAAAAAAAAAAAAAAAAAAAAAAAAAAAAAAABmZmZmZmbmP5qZmZmZmbk/AAAAAAAAAACamZmZmZnJPwAAAAAAAAAAAAAAAAAAAAAAAAAAAAAAAAAAAAAAAAAAAAAAAAAAAAAAAAAAAAAAAAAAAAAAAAAAmpmZmZmZuT+amZmZmZm5PwAAAAAAAAAAmpmZmZmZuT8AAAAAAAAAAAAAAAAAAAAAAAAAAAAAAAAAAAAAAAAAAJqZmZmZmbk/mpmZmZmZuT8AAAAAAAAAAJqZmZmZmbk/AAAAAAAAAACamZmZmZm5P5qZmZmZmbk/mpmZmZmZuT8AAAAAAAAAAJqZmZmZmbk/mpmZmZmZuT+amZmZmZm5PwAAAAAAAAAAMzMzMzMz0z8AAAAAAAAAAAAAAAAAAOA/mpmZmZmZyT+amZmZmZnpP2ZmZmZmZuY/MzMzMzMz4z8AAAAAAADwPzMzMzMzMxNAMzMzMzMzE0AzMzMzMzMXQAAAAAAAAABAZmZmZmZm5j8zMzMzMzPjPwAAAAAAAOA/MzMzMzMz4z9mZmZmZmbmPwAAAAAAAOA/MzMzMzMz4z8AAAAAAADgPwAAAAAAAOA/MzMzMzMz4z8zMzMzMzPjPzMzMzMzM+M/AAAAAAAA4D8zMzMzMzPjPzMzMzMzM+M/mpmZmZmZ2T8AAAAAAADgPwAAAAAAAOA/ZmZmZmZm5j8zMzMzMzPjPzMzMzMzM+M/ZmZmZmZm5j8AAAAAAADgPzMzMzMzM+M/ZmZmZmZm5j8zMzMzMzPjP5qZmZmZmbk/MzMzMzMz4z8AAAAAAADgP2ZmZmZmZuY/AAAAAAAA4D8AAAAAAADgPzMzMzMzM+M/MzMzMzMz4z8AAAAAAAAAADMzMzMzM9M/MzMzMzMz4z/NzMzMzMzsPwAAAAAAAOA/MzMzMzMz4z8AAAAAAADgPwAAAAAAAPA/AAAAAAAA4D+amZmZmZnJPwAAAAAAAAAAmpmZmZmZuT+amZmZmZnJPwAAAAAAAOA/AAAAAAAA4D+amZmZmZnJPwAAAAAAAAAAAAAAAAAA4D8AAAAAAADgPzMzMzMzM+M/AAAAAAAA4D8AAAAAAADgPwAAAAAAAOA/AAAAAAAA4D8AAAAAAADgP5qZmZmZmdk/ZmZmZmZm5j8zMzMzMzPjPwAAAAAAAOA/mpmZmZmZyT+amZmZmZnZP2ZmZmZmZuY/ZmZmZmZm5j8AAAAAAADgP5qZmZmZmbk/mpmZmZmZ8T8AAAAAAADgP5qZmZmZmek/MzMzMzMz4z8zMzMzMzPjP5qZmZmZmck/mpmZmZmZ2T8zMzMzMzPjPwAAAAAAAOA/MzMzMzMz4z+amZmZmZnpPwAAAAAAAOA/ZmZmZmZm5j9mZmZmZmbmPwAAAAAAAOA/AAAAAAAA4D8AAAAAAADgP2ZmZmZmZuY/AAAAAAAA4D8zMzMzMzPjPwAAAAAAAOA/AAAAAAAA4D8AAAAAAADgP5qZmZmZmbk/AAAAAAAA4D8AAAAAAADgPwAAAAAAAOA/MzMzMzMz4z8AAAAAAADgPwAAAAAAAOA/AAAAAAAAAABmZmZmZmYKQM3MzMzMzBpAMzMzMzMzHUBmZmZmZmYeQAAAAAAAAB5AMzMzMzMzHUAAAAAAAAAcQM3MzMzMzBpAZmZmZmZmHECamZmZmZkdQGZmZmZmZhxAZmZmZmZmHECamZmZmZn5PwAAAAAAAOA/AAAAAAAA4D8AAAAAAADgPwAAAAAAAOA/AAAAAAAA4D8zMzMzMzPjPwAAAAAAAOA/MzMzMzMz4z8zMzMzMzPjPwAAAAAAAOA/MzMzMzMz4z8AAAAAAADgPwAAAAAAAOA/ZmZmZmZm5j8AAAAAAADgP5qZmZmZmbk/mpmZmZmZyT8AAAAAAADgP2ZmZmZmZuY/zczMzMzM9D9mZmZmZmbmPzMzMzMzM+M/MzMzMzMz4z8zMzMzMzPjPwAAAAAAAOA/mpmZmZmZ2T8AAAAAAADgPwAAAAAAAOA/AAAAAAAAAACamZmZmZnJPzMzMzMzMwtAZmZmZmZmHkAAAAAAAAAgQAAAAAAAAB5AzczMzMzMHkDNzMzMzMwcQAAAAAAAAB5AmpmZmZmZHUBmZmZmZmYcQGZmZmZmZhxAMzMzMzMzHUAAAAAAAAAiQGZmZmZmZiJAzczMzMzMIEAzMzMzMzMfQGZmZmZmZiBA",
                    "dtype": "f8"
                  },
                  "xaxis": "x",
                  "yaxis": "y"
                }
              ],
              "layout": {
                "barmode": "relative",
                "legend": {
                  "tracegroupgap": 0
                },
                "margin": {
                  "t": 60
                },
                "template": {
                  "data": {
                    "bar": [
                      {
                        "error_x": {
                          "color": "#2a3f5f"
                        },
                        "error_y": {
                          "color": "#2a3f5f"
                        },
                        "marker": {
                          "line": {
                            "color": "#E5ECF6",
                            "width": 0.5
                          },
                          "pattern": {
                            "fillmode": "overlay",
                            "size": 10,
                            "solidity": 0.2
                          }
                        },
                        "type": "bar"
                      }
                    ],
                    "barpolar": [
                      {
                        "marker": {
                          "line": {
                            "color": "#E5ECF6",
                            "width": 0.5
                          },
                          "pattern": {
                            "fillmode": "overlay",
                            "size": 10,
                            "solidity": 0.2
                          }
                        },
                        "type": "barpolar"
                      }
                    ],
                    "carpet": [
                      {
                        "aaxis": {
                          "endlinecolor": "#2a3f5f",
                          "gridcolor": "white",
                          "linecolor": "white",
                          "minorgridcolor": "white",
                          "startlinecolor": "#2a3f5f"
                        },
                        "baxis": {
                          "endlinecolor": "#2a3f5f",
                          "gridcolor": "white",
                          "linecolor": "white",
                          "minorgridcolor": "white",
                          "startlinecolor": "#2a3f5f"
                        },
                        "type": "carpet"
                      }
                    ],
                    "choropleth": [
                      {
                        "colorbar": {
                          "outlinewidth": 0,
                          "ticks": ""
                        },
                        "type": "choropleth"
                      }
                    ],
                    "contour": [
                      {
                        "colorbar": {
                          "outlinewidth": 0,
                          "ticks": ""
                        },
                        "colorscale": [
                          [
                            0,
                            "#0d0887"
                          ],
                          [
                            0.1111111111111111,
                            "#46039f"
                          ],
                          [
                            0.2222222222222222,
                            "#7201a8"
                          ],
                          [
                            0.3333333333333333,
                            "#9c179e"
                          ],
                          [
                            0.4444444444444444,
                            "#bd3786"
                          ],
                          [
                            0.5555555555555556,
                            "#d8576b"
                          ],
                          [
                            0.6666666666666666,
                            "#ed7953"
                          ],
                          [
                            0.7777777777777778,
                            "#fb9f3a"
                          ],
                          [
                            0.8888888888888888,
                            "#fdca26"
                          ],
                          [
                            1,
                            "#f0f921"
                          ]
                        ],
                        "type": "contour"
                      }
                    ],
                    "contourcarpet": [
                      {
                        "colorbar": {
                          "outlinewidth": 0,
                          "ticks": ""
                        },
                        "type": "contourcarpet"
                      }
                    ],
                    "heatmap": [
                      {
                        "colorbar": {
                          "outlinewidth": 0,
                          "ticks": ""
                        },
                        "colorscale": [
                          [
                            0,
                            "#0d0887"
                          ],
                          [
                            0.1111111111111111,
                            "#46039f"
                          ],
                          [
                            0.2222222222222222,
                            "#7201a8"
                          ],
                          [
                            0.3333333333333333,
                            "#9c179e"
                          ],
                          [
                            0.4444444444444444,
                            "#bd3786"
                          ],
                          [
                            0.5555555555555556,
                            "#d8576b"
                          ],
                          [
                            0.6666666666666666,
                            "#ed7953"
                          ],
                          [
                            0.7777777777777778,
                            "#fb9f3a"
                          ],
                          [
                            0.8888888888888888,
                            "#fdca26"
                          ],
                          [
                            1,
                            "#f0f921"
                          ]
                        ],
                        "type": "heatmap"
                      }
                    ],
                    "histogram": [
                      {
                        "marker": {
                          "pattern": {
                            "fillmode": "overlay",
                            "size": 10,
                            "solidity": 0.2
                          }
                        },
                        "type": "histogram"
                      }
                    ],
                    "histogram2d": [
                      {
                        "colorbar": {
                          "outlinewidth": 0,
                          "ticks": ""
                        },
                        "colorscale": [
                          [
                            0,
                            "#0d0887"
                          ],
                          [
                            0.1111111111111111,
                            "#46039f"
                          ],
                          [
                            0.2222222222222222,
                            "#7201a8"
                          ],
                          [
                            0.3333333333333333,
                            "#9c179e"
                          ],
                          [
                            0.4444444444444444,
                            "#bd3786"
                          ],
                          [
                            0.5555555555555556,
                            "#d8576b"
                          ],
                          [
                            0.6666666666666666,
                            "#ed7953"
                          ],
                          [
                            0.7777777777777778,
                            "#fb9f3a"
                          ],
                          [
                            0.8888888888888888,
                            "#fdca26"
                          ],
                          [
                            1,
                            "#f0f921"
                          ]
                        ],
                        "type": "histogram2d"
                      }
                    ],
                    "histogram2dcontour": [
                      {
                        "colorbar": {
                          "outlinewidth": 0,
                          "ticks": ""
                        },
                        "colorscale": [
                          [
                            0,
                            "#0d0887"
                          ],
                          [
                            0.1111111111111111,
                            "#46039f"
                          ],
                          [
                            0.2222222222222222,
                            "#7201a8"
                          ],
                          [
                            0.3333333333333333,
                            "#9c179e"
                          ],
                          [
                            0.4444444444444444,
                            "#bd3786"
                          ],
                          [
                            0.5555555555555556,
                            "#d8576b"
                          ],
                          [
                            0.6666666666666666,
                            "#ed7953"
                          ],
                          [
                            0.7777777777777778,
                            "#fb9f3a"
                          ],
                          [
                            0.8888888888888888,
                            "#fdca26"
                          ],
                          [
                            1,
                            "#f0f921"
                          ]
                        ],
                        "type": "histogram2dcontour"
                      }
                    ],
                    "mesh3d": [
                      {
                        "colorbar": {
                          "outlinewidth": 0,
                          "ticks": ""
                        },
                        "type": "mesh3d"
                      }
                    ],
                    "parcoords": [
                      {
                        "line": {
                          "colorbar": {
                            "outlinewidth": 0,
                            "ticks": ""
                          }
                        },
                        "type": "parcoords"
                      }
                    ],
                    "pie": [
                      {
                        "automargin": true,
                        "type": "pie"
                      }
                    ],
                    "scatter": [
                      {
                        "fillpattern": {
                          "fillmode": "overlay",
                          "size": 10,
                          "solidity": 0.2
                        },
                        "type": "scatter"
                      }
                    ],
                    "scatter3d": [
                      {
                        "line": {
                          "colorbar": {
                            "outlinewidth": 0,
                            "ticks": ""
                          }
                        },
                        "marker": {
                          "colorbar": {
                            "outlinewidth": 0,
                            "ticks": ""
                          }
                        },
                        "type": "scatter3d"
                      }
                    ],
                    "scattercarpet": [
                      {
                        "marker": {
                          "colorbar": {
                            "outlinewidth": 0,
                            "ticks": ""
                          }
                        },
                        "type": "scattercarpet"
                      }
                    ],
                    "scattergeo": [
                      {
                        "marker": {
                          "colorbar": {
                            "outlinewidth": 0,
                            "ticks": ""
                          }
                        },
                        "type": "scattergeo"
                      }
                    ],
                    "scattergl": [
                      {
                        "marker": {
                          "colorbar": {
                            "outlinewidth": 0,
                            "ticks": ""
                          }
                        },
                        "type": "scattergl"
                      }
                    ],
                    "scattermap": [
                      {
                        "marker": {
                          "colorbar": {
                            "outlinewidth": 0,
                            "ticks": ""
                          }
                        },
                        "type": "scattermap"
                      }
                    ],
                    "scattermapbox": [
                      {
                        "marker": {
                          "colorbar": {
                            "outlinewidth": 0,
                            "ticks": ""
                          }
                        },
                        "type": "scattermapbox"
                      }
                    ],
                    "scatterpolar": [
                      {
                        "marker": {
                          "colorbar": {
                            "outlinewidth": 0,
                            "ticks": ""
                          }
                        },
                        "type": "scatterpolar"
                      }
                    ],
                    "scatterpolargl": [
                      {
                        "marker": {
                          "colorbar": {
                            "outlinewidth": 0,
                            "ticks": ""
                          }
                        },
                        "type": "scatterpolargl"
                      }
                    ],
                    "scatterternary": [
                      {
                        "marker": {
                          "colorbar": {
                            "outlinewidth": 0,
                            "ticks": ""
                          }
                        },
                        "type": "scatterternary"
                      }
                    ],
                    "surface": [
                      {
                        "colorbar": {
                          "outlinewidth": 0,
                          "ticks": ""
                        },
                        "colorscale": [
                          [
                            0,
                            "#0d0887"
                          ],
                          [
                            0.1111111111111111,
                            "#46039f"
                          ],
                          [
                            0.2222222222222222,
                            "#7201a8"
                          ],
                          [
                            0.3333333333333333,
                            "#9c179e"
                          ],
                          [
                            0.4444444444444444,
                            "#bd3786"
                          ],
                          [
                            0.5555555555555556,
                            "#d8576b"
                          ],
                          [
                            0.6666666666666666,
                            "#ed7953"
                          ],
                          [
                            0.7777777777777778,
                            "#fb9f3a"
                          ],
                          [
                            0.8888888888888888,
                            "#fdca26"
                          ],
                          [
                            1,
                            "#f0f921"
                          ]
                        ],
                        "type": "surface"
                      }
                    ],
                    "table": [
                      {
                        "cells": {
                          "fill": {
                            "color": "#EBF0F8"
                          },
                          "line": {
                            "color": "white"
                          }
                        },
                        "header": {
                          "fill": {
                            "color": "#C8D4E3"
                          },
                          "line": {
                            "color": "white"
                          }
                        },
                        "type": "table"
                      }
                    ]
                  },
                  "layout": {
                    "annotationdefaults": {
                      "arrowcolor": "#2a3f5f",
                      "arrowhead": 0,
                      "arrowwidth": 1
                    },
                    "autotypenumbers": "strict",
                    "coloraxis": {
                      "colorbar": {
                        "outlinewidth": 0,
                        "ticks": ""
                      }
                    },
                    "colorscale": {
                      "diverging": [
                        [
                          0,
                          "#8e0152"
                        ],
                        [
                          0.1,
                          "#c51b7d"
                        ],
                        [
                          0.2,
                          "#de77ae"
                        ],
                        [
                          0.3,
                          "#f1b6da"
                        ],
                        [
                          0.4,
                          "#fde0ef"
                        ],
                        [
                          0.5,
                          "#f7f7f7"
                        ],
                        [
                          0.6,
                          "#e6f5d0"
                        ],
                        [
                          0.7,
                          "#b8e186"
                        ],
                        [
                          0.8,
                          "#7fbc41"
                        ],
                        [
                          0.9,
                          "#4d9221"
                        ],
                        [
                          1,
                          "#276419"
                        ]
                      ],
                      "sequential": [
                        [
                          0,
                          "#0d0887"
                        ],
                        [
                          0.1111111111111111,
                          "#46039f"
                        ],
                        [
                          0.2222222222222222,
                          "#7201a8"
                        ],
                        [
                          0.3333333333333333,
                          "#9c179e"
                        ],
                        [
                          0.4444444444444444,
                          "#bd3786"
                        ],
                        [
                          0.5555555555555556,
                          "#d8576b"
                        ],
                        [
                          0.6666666666666666,
                          "#ed7953"
                        ],
                        [
                          0.7777777777777778,
                          "#fb9f3a"
                        ],
                        [
                          0.8888888888888888,
                          "#fdca26"
                        ],
                        [
                          1,
                          "#f0f921"
                        ]
                      ],
                      "sequentialminus": [
                        [
                          0,
                          "#0d0887"
                        ],
                        [
                          0.1111111111111111,
                          "#46039f"
                        ],
                        [
                          0.2222222222222222,
                          "#7201a8"
                        ],
                        [
                          0.3333333333333333,
                          "#9c179e"
                        ],
                        [
                          0.4444444444444444,
                          "#bd3786"
                        ],
                        [
                          0.5555555555555556,
                          "#d8576b"
                        ],
                        [
                          0.6666666666666666,
                          "#ed7953"
                        ],
                        [
                          0.7777777777777778,
                          "#fb9f3a"
                        ],
                        [
                          0.8888888888888888,
                          "#fdca26"
                        ],
                        [
                          1,
                          "#f0f921"
                        ]
                      ]
                    },
                    "colorway": [
                      "#636efa",
                      "#EF553B",
                      "#00cc96",
                      "#ab63fa",
                      "#FFA15A",
                      "#19d3f3",
                      "#FF6692",
                      "#B6E880",
                      "#FF97FF",
                      "#FECB52"
                    ],
                    "font": {
                      "color": "#2a3f5f"
                    },
                    "geo": {
                      "bgcolor": "white",
                      "lakecolor": "white",
                      "landcolor": "#E5ECF6",
                      "showlakes": true,
                      "showland": true,
                      "subunitcolor": "white"
                    },
                    "hoverlabel": {
                      "align": "left"
                    },
                    "hovermode": "closest",
                    "mapbox": {
                      "style": "light"
                    },
                    "paper_bgcolor": "white",
                    "plot_bgcolor": "#E5ECF6",
                    "polar": {
                      "angularaxis": {
                        "gridcolor": "white",
                        "linecolor": "white",
                        "ticks": ""
                      },
                      "bgcolor": "#E5ECF6",
                      "radialaxis": {
                        "gridcolor": "white",
                        "linecolor": "white",
                        "ticks": ""
                      }
                    },
                    "scene": {
                      "xaxis": {
                        "backgroundcolor": "#E5ECF6",
                        "gridcolor": "white",
                        "gridwidth": 2,
                        "linecolor": "white",
                        "showbackground": true,
                        "ticks": "",
                        "zerolinecolor": "white"
                      },
                      "yaxis": {
                        "backgroundcolor": "#E5ECF6",
                        "gridcolor": "white",
                        "gridwidth": 2,
                        "linecolor": "white",
                        "showbackground": true,
                        "ticks": "",
                        "zerolinecolor": "white"
                      },
                      "zaxis": {
                        "backgroundcolor": "#E5ECF6",
                        "gridcolor": "white",
                        "gridwidth": 2,
                        "linecolor": "white",
                        "showbackground": true,
                        "ticks": "",
                        "zerolinecolor": "white"
                      }
                    },
                    "shapedefaults": {
                      "line": {
                        "color": "#2a3f5f"
                      }
                    },
                    "ternary": {
                      "aaxis": {
                        "gridcolor": "white",
                        "linecolor": "white",
                        "ticks": ""
                      },
                      "baxis": {
                        "gridcolor": "white",
                        "linecolor": "white",
                        "ticks": ""
                      },
                      "bgcolor": "#E5ECF6",
                      "caxis": {
                        "gridcolor": "white",
                        "linecolor": "white",
                        "ticks": ""
                      }
                    },
                    "title": {
                      "x": 0.05
                    },
                    "xaxis": {
                      "automargin": true,
                      "gridcolor": "white",
                      "linecolor": "white",
                      "ticks": "",
                      "title": {
                        "standoff": 15
                      },
                      "zerolinecolor": "white",
                      "zerolinewidth": 2
                    },
                    "yaxis": {
                      "automargin": true,
                      "gridcolor": "white",
                      "linecolor": "white",
                      "ticks": "",
                      "title": {
                        "standoff": 15
                      },
                      "zerolinecolor": "white",
                      "zerolinewidth": 2
                    }
                  }
                },
                "xaxis": {
                  "anchor": "y",
                  "domain": [
                    0,
                    1
                  ],
                  "title": {
                    "text": "Speed"
                  }
                },
                "yaxis": {
                  "anchor": "x",
                  "domain": [
                    0,
                    1
                  ],
                  "title": {
                    "text": "count"
                  }
                }
              }
            }
          },
          "metadata": {},
          "output_type": "display_data"
        }
      ],
      "source": [
        "cargodf_hist = px.histogram(cargo_df, x='Speed')\n",
        "cargodf_hist.show()"
      ]
    },
    {
      "cell_type": "code",
      "execution_count": 79,
      "metadata": {},
      "outputs": [
        {
          "name": "stdout",
          "output_type": "stream",
          "text": [
            "[ 0  1  2  3  4  5  6  7  8  9 10 11 12 13 14 15]\n",
            "[ 0.5  1.5  2.5  3.5  4.5  5.5  6.5  7.5  8.5  9.5 10.5 11.5 12.5 13.5\n",
            " 14.5]\n"
          ]
        }
      ],
      "source": [
        "cargospeed_bins = np.arange(st,en+bin_width,bin_width)\n",
        "cargospeed_midpts = np.arange(st+bin_width/2,en,bin_width)\n",
        "print(cargospeed_bins)\n",
        "print(cargospeed_midpts)"
      ]
    },
    {
      "cell_type": "code",
      "execution_count": 80,
      "metadata": {},
      "outputs": [
        {
          "name": "stdout",
          "output_type": "stream",
          "text": [
            "[902  59  11  18  21  31 101 164  38   3   2   0   0   0   0]\n",
            "[ 0  1  2  3  4  5  6  7  8  9 10 11 12 13 14 15]\n"
          ]
        }
      ],
      "source": [
        "cargocounts, cargobins = np.histogram(cargo_df['Speed'], bins=cargospeed_bins,range=(st,en))\n",
        "print(cargocounts)\n",
        "print(cargobins)"
      ]
    },
    {
      "cell_type": "code",
      "execution_count": 81,
      "metadata": {},
      "outputs": [
        {
          "data": {
            "application/vnd.plotly.v1+json": {
              "config": {
                "plotlyServerURL": "https://plot.ly"
              },
              "data": [
                {
                  "type": "bar",
                  "width": 1,
                  "x": {
                    "bdata": "AAAAAAAA4D8AAAAAAAD4PwAAAAAAAARAAAAAAAAADEAAAAAAAAASQAAAAAAAABZAAAAAAAAAGkAAAAAAAAAeQAAAAAAAACFAAAAAAAAAI0AAAAAAAAAlQAAAAAAAACdAAAAAAAAAKUAAAAAAAAArQAAAAAAAAC1A",
                    "dtype": "f8"
                  },
                  "y": {
                    "bdata": "hgM7AAsAEgAVAB8AZQCkACYAAwACAAAAAAAAAAAA",
                    "dtype": "i2"
                  }
                }
              ],
              "layout": {
                "template": {
                  "data": {
                    "bar": [
                      {
                        "error_x": {
                          "color": "#2a3f5f"
                        },
                        "error_y": {
                          "color": "#2a3f5f"
                        },
                        "marker": {
                          "line": {
                            "color": "#E5ECF6",
                            "width": 0.5
                          },
                          "pattern": {
                            "fillmode": "overlay",
                            "size": 10,
                            "solidity": 0.2
                          }
                        },
                        "type": "bar"
                      }
                    ],
                    "barpolar": [
                      {
                        "marker": {
                          "line": {
                            "color": "#E5ECF6",
                            "width": 0.5
                          },
                          "pattern": {
                            "fillmode": "overlay",
                            "size": 10,
                            "solidity": 0.2
                          }
                        },
                        "type": "barpolar"
                      }
                    ],
                    "carpet": [
                      {
                        "aaxis": {
                          "endlinecolor": "#2a3f5f",
                          "gridcolor": "white",
                          "linecolor": "white",
                          "minorgridcolor": "white",
                          "startlinecolor": "#2a3f5f"
                        },
                        "baxis": {
                          "endlinecolor": "#2a3f5f",
                          "gridcolor": "white",
                          "linecolor": "white",
                          "minorgridcolor": "white",
                          "startlinecolor": "#2a3f5f"
                        },
                        "type": "carpet"
                      }
                    ],
                    "choropleth": [
                      {
                        "colorbar": {
                          "outlinewidth": 0,
                          "ticks": ""
                        },
                        "type": "choropleth"
                      }
                    ],
                    "contour": [
                      {
                        "colorbar": {
                          "outlinewidth": 0,
                          "ticks": ""
                        },
                        "colorscale": [
                          [
                            0,
                            "#0d0887"
                          ],
                          [
                            0.1111111111111111,
                            "#46039f"
                          ],
                          [
                            0.2222222222222222,
                            "#7201a8"
                          ],
                          [
                            0.3333333333333333,
                            "#9c179e"
                          ],
                          [
                            0.4444444444444444,
                            "#bd3786"
                          ],
                          [
                            0.5555555555555556,
                            "#d8576b"
                          ],
                          [
                            0.6666666666666666,
                            "#ed7953"
                          ],
                          [
                            0.7777777777777778,
                            "#fb9f3a"
                          ],
                          [
                            0.8888888888888888,
                            "#fdca26"
                          ],
                          [
                            1,
                            "#f0f921"
                          ]
                        ],
                        "type": "contour"
                      }
                    ],
                    "contourcarpet": [
                      {
                        "colorbar": {
                          "outlinewidth": 0,
                          "ticks": ""
                        },
                        "type": "contourcarpet"
                      }
                    ],
                    "heatmap": [
                      {
                        "colorbar": {
                          "outlinewidth": 0,
                          "ticks": ""
                        },
                        "colorscale": [
                          [
                            0,
                            "#0d0887"
                          ],
                          [
                            0.1111111111111111,
                            "#46039f"
                          ],
                          [
                            0.2222222222222222,
                            "#7201a8"
                          ],
                          [
                            0.3333333333333333,
                            "#9c179e"
                          ],
                          [
                            0.4444444444444444,
                            "#bd3786"
                          ],
                          [
                            0.5555555555555556,
                            "#d8576b"
                          ],
                          [
                            0.6666666666666666,
                            "#ed7953"
                          ],
                          [
                            0.7777777777777778,
                            "#fb9f3a"
                          ],
                          [
                            0.8888888888888888,
                            "#fdca26"
                          ],
                          [
                            1,
                            "#f0f921"
                          ]
                        ],
                        "type": "heatmap"
                      }
                    ],
                    "histogram": [
                      {
                        "marker": {
                          "pattern": {
                            "fillmode": "overlay",
                            "size": 10,
                            "solidity": 0.2
                          }
                        },
                        "type": "histogram"
                      }
                    ],
                    "histogram2d": [
                      {
                        "colorbar": {
                          "outlinewidth": 0,
                          "ticks": ""
                        },
                        "colorscale": [
                          [
                            0,
                            "#0d0887"
                          ],
                          [
                            0.1111111111111111,
                            "#46039f"
                          ],
                          [
                            0.2222222222222222,
                            "#7201a8"
                          ],
                          [
                            0.3333333333333333,
                            "#9c179e"
                          ],
                          [
                            0.4444444444444444,
                            "#bd3786"
                          ],
                          [
                            0.5555555555555556,
                            "#d8576b"
                          ],
                          [
                            0.6666666666666666,
                            "#ed7953"
                          ],
                          [
                            0.7777777777777778,
                            "#fb9f3a"
                          ],
                          [
                            0.8888888888888888,
                            "#fdca26"
                          ],
                          [
                            1,
                            "#f0f921"
                          ]
                        ],
                        "type": "histogram2d"
                      }
                    ],
                    "histogram2dcontour": [
                      {
                        "colorbar": {
                          "outlinewidth": 0,
                          "ticks": ""
                        },
                        "colorscale": [
                          [
                            0,
                            "#0d0887"
                          ],
                          [
                            0.1111111111111111,
                            "#46039f"
                          ],
                          [
                            0.2222222222222222,
                            "#7201a8"
                          ],
                          [
                            0.3333333333333333,
                            "#9c179e"
                          ],
                          [
                            0.4444444444444444,
                            "#bd3786"
                          ],
                          [
                            0.5555555555555556,
                            "#d8576b"
                          ],
                          [
                            0.6666666666666666,
                            "#ed7953"
                          ],
                          [
                            0.7777777777777778,
                            "#fb9f3a"
                          ],
                          [
                            0.8888888888888888,
                            "#fdca26"
                          ],
                          [
                            1,
                            "#f0f921"
                          ]
                        ],
                        "type": "histogram2dcontour"
                      }
                    ],
                    "mesh3d": [
                      {
                        "colorbar": {
                          "outlinewidth": 0,
                          "ticks": ""
                        },
                        "type": "mesh3d"
                      }
                    ],
                    "parcoords": [
                      {
                        "line": {
                          "colorbar": {
                            "outlinewidth": 0,
                            "ticks": ""
                          }
                        },
                        "type": "parcoords"
                      }
                    ],
                    "pie": [
                      {
                        "automargin": true,
                        "type": "pie"
                      }
                    ],
                    "scatter": [
                      {
                        "fillpattern": {
                          "fillmode": "overlay",
                          "size": 10,
                          "solidity": 0.2
                        },
                        "type": "scatter"
                      }
                    ],
                    "scatter3d": [
                      {
                        "line": {
                          "colorbar": {
                            "outlinewidth": 0,
                            "ticks": ""
                          }
                        },
                        "marker": {
                          "colorbar": {
                            "outlinewidth": 0,
                            "ticks": ""
                          }
                        },
                        "type": "scatter3d"
                      }
                    ],
                    "scattercarpet": [
                      {
                        "marker": {
                          "colorbar": {
                            "outlinewidth": 0,
                            "ticks": ""
                          }
                        },
                        "type": "scattercarpet"
                      }
                    ],
                    "scattergeo": [
                      {
                        "marker": {
                          "colorbar": {
                            "outlinewidth": 0,
                            "ticks": ""
                          }
                        },
                        "type": "scattergeo"
                      }
                    ],
                    "scattergl": [
                      {
                        "marker": {
                          "colorbar": {
                            "outlinewidth": 0,
                            "ticks": ""
                          }
                        },
                        "type": "scattergl"
                      }
                    ],
                    "scattermap": [
                      {
                        "marker": {
                          "colorbar": {
                            "outlinewidth": 0,
                            "ticks": ""
                          }
                        },
                        "type": "scattermap"
                      }
                    ],
                    "scattermapbox": [
                      {
                        "marker": {
                          "colorbar": {
                            "outlinewidth": 0,
                            "ticks": ""
                          }
                        },
                        "type": "scattermapbox"
                      }
                    ],
                    "scatterpolar": [
                      {
                        "marker": {
                          "colorbar": {
                            "outlinewidth": 0,
                            "ticks": ""
                          }
                        },
                        "type": "scatterpolar"
                      }
                    ],
                    "scatterpolargl": [
                      {
                        "marker": {
                          "colorbar": {
                            "outlinewidth": 0,
                            "ticks": ""
                          }
                        },
                        "type": "scatterpolargl"
                      }
                    ],
                    "scatterternary": [
                      {
                        "marker": {
                          "colorbar": {
                            "outlinewidth": 0,
                            "ticks": ""
                          }
                        },
                        "type": "scatterternary"
                      }
                    ],
                    "surface": [
                      {
                        "colorbar": {
                          "outlinewidth": 0,
                          "ticks": ""
                        },
                        "colorscale": [
                          [
                            0,
                            "#0d0887"
                          ],
                          [
                            0.1111111111111111,
                            "#46039f"
                          ],
                          [
                            0.2222222222222222,
                            "#7201a8"
                          ],
                          [
                            0.3333333333333333,
                            "#9c179e"
                          ],
                          [
                            0.4444444444444444,
                            "#bd3786"
                          ],
                          [
                            0.5555555555555556,
                            "#d8576b"
                          ],
                          [
                            0.6666666666666666,
                            "#ed7953"
                          ],
                          [
                            0.7777777777777778,
                            "#fb9f3a"
                          ],
                          [
                            0.8888888888888888,
                            "#fdca26"
                          ],
                          [
                            1,
                            "#f0f921"
                          ]
                        ],
                        "type": "surface"
                      }
                    ],
                    "table": [
                      {
                        "cells": {
                          "fill": {
                            "color": "#EBF0F8"
                          },
                          "line": {
                            "color": "white"
                          }
                        },
                        "header": {
                          "fill": {
                            "color": "#C8D4E3"
                          },
                          "line": {
                            "color": "white"
                          }
                        },
                        "type": "table"
                      }
                    ]
                  },
                  "layout": {
                    "annotationdefaults": {
                      "arrowcolor": "#2a3f5f",
                      "arrowhead": 0,
                      "arrowwidth": 1
                    },
                    "autotypenumbers": "strict",
                    "coloraxis": {
                      "colorbar": {
                        "outlinewidth": 0,
                        "ticks": ""
                      }
                    },
                    "colorscale": {
                      "diverging": [
                        [
                          0,
                          "#8e0152"
                        ],
                        [
                          0.1,
                          "#c51b7d"
                        ],
                        [
                          0.2,
                          "#de77ae"
                        ],
                        [
                          0.3,
                          "#f1b6da"
                        ],
                        [
                          0.4,
                          "#fde0ef"
                        ],
                        [
                          0.5,
                          "#f7f7f7"
                        ],
                        [
                          0.6,
                          "#e6f5d0"
                        ],
                        [
                          0.7,
                          "#b8e186"
                        ],
                        [
                          0.8,
                          "#7fbc41"
                        ],
                        [
                          0.9,
                          "#4d9221"
                        ],
                        [
                          1,
                          "#276419"
                        ]
                      ],
                      "sequential": [
                        [
                          0,
                          "#0d0887"
                        ],
                        [
                          0.1111111111111111,
                          "#46039f"
                        ],
                        [
                          0.2222222222222222,
                          "#7201a8"
                        ],
                        [
                          0.3333333333333333,
                          "#9c179e"
                        ],
                        [
                          0.4444444444444444,
                          "#bd3786"
                        ],
                        [
                          0.5555555555555556,
                          "#d8576b"
                        ],
                        [
                          0.6666666666666666,
                          "#ed7953"
                        ],
                        [
                          0.7777777777777778,
                          "#fb9f3a"
                        ],
                        [
                          0.8888888888888888,
                          "#fdca26"
                        ],
                        [
                          1,
                          "#f0f921"
                        ]
                      ],
                      "sequentialminus": [
                        [
                          0,
                          "#0d0887"
                        ],
                        [
                          0.1111111111111111,
                          "#46039f"
                        ],
                        [
                          0.2222222222222222,
                          "#7201a8"
                        ],
                        [
                          0.3333333333333333,
                          "#9c179e"
                        ],
                        [
                          0.4444444444444444,
                          "#bd3786"
                        ],
                        [
                          0.5555555555555556,
                          "#d8576b"
                        ],
                        [
                          0.6666666666666666,
                          "#ed7953"
                        ],
                        [
                          0.7777777777777778,
                          "#fb9f3a"
                        ],
                        [
                          0.8888888888888888,
                          "#fdca26"
                        ],
                        [
                          1,
                          "#f0f921"
                        ]
                      ]
                    },
                    "colorway": [
                      "#636efa",
                      "#EF553B",
                      "#00cc96",
                      "#ab63fa",
                      "#FFA15A",
                      "#19d3f3",
                      "#FF6692",
                      "#B6E880",
                      "#FF97FF",
                      "#FECB52"
                    ],
                    "font": {
                      "color": "#2a3f5f"
                    },
                    "geo": {
                      "bgcolor": "white",
                      "lakecolor": "white",
                      "landcolor": "#E5ECF6",
                      "showlakes": true,
                      "showland": true,
                      "subunitcolor": "white"
                    },
                    "hoverlabel": {
                      "align": "left"
                    },
                    "hovermode": "closest",
                    "mapbox": {
                      "style": "light"
                    },
                    "paper_bgcolor": "white",
                    "plot_bgcolor": "#E5ECF6",
                    "polar": {
                      "angularaxis": {
                        "gridcolor": "white",
                        "linecolor": "white",
                        "ticks": ""
                      },
                      "bgcolor": "#E5ECF6",
                      "radialaxis": {
                        "gridcolor": "white",
                        "linecolor": "white",
                        "ticks": ""
                      }
                    },
                    "scene": {
                      "xaxis": {
                        "backgroundcolor": "#E5ECF6",
                        "gridcolor": "white",
                        "gridwidth": 2,
                        "linecolor": "white",
                        "showbackground": true,
                        "ticks": "",
                        "zerolinecolor": "white"
                      },
                      "yaxis": {
                        "backgroundcolor": "#E5ECF6",
                        "gridcolor": "white",
                        "gridwidth": 2,
                        "linecolor": "white",
                        "showbackground": true,
                        "ticks": "",
                        "zerolinecolor": "white"
                      },
                      "zaxis": {
                        "backgroundcolor": "#E5ECF6",
                        "gridcolor": "white",
                        "gridwidth": 2,
                        "linecolor": "white",
                        "showbackground": true,
                        "ticks": "",
                        "zerolinecolor": "white"
                      }
                    },
                    "shapedefaults": {
                      "line": {
                        "color": "#2a3f5f"
                      }
                    },
                    "ternary": {
                      "aaxis": {
                        "gridcolor": "white",
                        "linecolor": "white",
                        "ticks": ""
                      },
                      "baxis": {
                        "gridcolor": "white",
                        "linecolor": "white",
                        "ticks": ""
                      },
                      "bgcolor": "#E5ECF6",
                      "caxis": {
                        "gridcolor": "white",
                        "linecolor": "white",
                        "ticks": ""
                      }
                    },
                    "title": {
                      "x": 0.05
                    },
                    "xaxis": {
                      "automargin": true,
                      "gridcolor": "white",
                      "linecolor": "white",
                      "ticks": "",
                      "title": {
                        "standoff": 15
                      },
                      "zerolinecolor": "white",
                      "zerolinewidth": 2
                    },
                    "yaxis": {
                      "automargin": true,
                      "gridcolor": "white",
                      "linecolor": "white",
                      "ticks": "",
                      "title": {
                        "standoff": 15
                      },
                      "zerolinecolor": "white",
                      "zerolinewidth": 2
                    }
                  }
                }
              }
            }
          },
          "metadata": {},
          "output_type": "display_data"
        }
      ],
      "source": [
        "fig = go.Figure(data=[go.Bar(x=cargospeed_midpts, y=cargocounts, width=bin_width)])\n",
        "fig.show()"
      ]
    },
    {
      "cell_type": "code",
      "execution_count": 82,
      "metadata": {},
      "outputs": [
        {
          "name": "stdout",
          "output_type": "stream",
          "text": [
            "[ 0  1  2  3  4  5  6  7  8  9 10 11 12 13 14 15]\n",
            "[ 0.5  1.5  2.5  3.5  4.5  5.5  6.5  7.5  8.5  9.5 10.5 11.5 12.5 13.5\n",
            " 14.5]\n"
          ]
        }
      ],
      "source": [
        "passengerhs_bins = np.arange(st,en+bin_width,bin_width)\n",
        "passengerhs_midpts = np.arange(st+bin_width/2,en,bin_width)\n",
        "print(passengerhs_bins)\n",
        "print(passengerhs_midpts)"
      ]
    },
    {
      "cell_type": "code",
      "execution_count": 83,
      "metadata": {},
      "outputs": [
        {
          "name": "stdout",
          "output_type": "stream",
          "text": [
            "[116  26  11  11  10   8   8   9   3   2   3   1   3   7  37]\n",
            "[ 0  1  2  3  4  5  6  7  8  9 10 11 12 13 14 15]\n"
          ]
        }
      ],
      "source": [
        "passengerhscounts, passengerhsbins = np.histogram(passengerhs_df['Speed'], bins=passengerhs_bins,range=(st,en))\n",
        "print(passengerhscounts)\n",
        "print(passengerhsbins)"
      ]
    },
    {
      "cell_type": "code",
      "execution_count": 84,
      "metadata": {},
      "outputs": [
        {
          "data": {
            "application/vnd.plotly.v1+json": {
              "config": {
                "plotlyServerURL": "https://plot.ly"
              },
              "data": [
                {
                  "type": "bar",
                  "width": 1,
                  "x": {
                    "bdata": "AAAAAAAA4D8AAAAAAAD4PwAAAAAAAARAAAAAAAAADEAAAAAAAAASQAAAAAAAABZAAAAAAAAAGkAAAAAAAAAeQAAAAAAAACFAAAAAAAAAI0AAAAAAAAAlQAAAAAAAACdAAAAAAAAAKUAAAAAAAAArQAAAAAAAAC1A",
                    "dtype": "f8"
                  },
                  "y": {
                    "bdata": "dBoLCwoICAkDAgMBAwcl",
                    "dtype": "i1"
                  }
                }
              ],
              "layout": {
                "template": {
                  "data": {
                    "bar": [
                      {
                        "error_x": {
                          "color": "#2a3f5f"
                        },
                        "error_y": {
                          "color": "#2a3f5f"
                        },
                        "marker": {
                          "line": {
                            "color": "#E5ECF6",
                            "width": 0.5
                          },
                          "pattern": {
                            "fillmode": "overlay",
                            "size": 10,
                            "solidity": 0.2
                          }
                        },
                        "type": "bar"
                      }
                    ],
                    "barpolar": [
                      {
                        "marker": {
                          "line": {
                            "color": "#E5ECF6",
                            "width": 0.5
                          },
                          "pattern": {
                            "fillmode": "overlay",
                            "size": 10,
                            "solidity": 0.2
                          }
                        },
                        "type": "barpolar"
                      }
                    ],
                    "carpet": [
                      {
                        "aaxis": {
                          "endlinecolor": "#2a3f5f",
                          "gridcolor": "white",
                          "linecolor": "white",
                          "minorgridcolor": "white",
                          "startlinecolor": "#2a3f5f"
                        },
                        "baxis": {
                          "endlinecolor": "#2a3f5f",
                          "gridcolor": "white",
                          "linecolor": "white",
                          "minorgridcolor": "white",
                          "startlinecolor": "#2a3f5f"
                        },
                        "type": "carpet"
                      }
                    ],
                    "choropleth": [
                      {
                        "colorbar": {
                          "outlinewidth": 0,
                          "ticks": ""
                        },
                        "type": "choropleth"
                      }
                    ],
                    "contour": [
                      {
                        "colorbar": {
                          "outlinewidth": 0,
                          "ticks": ""
                        },
                        "colorscale": [
                          [
                            0,
                            "#0d0887"
                          ],
                          [
                            0.1111111111111111,
                            "#46039f"
                          ],
                          [
                            0.2222222222222222,
                            "#7201a8"
                          ],
                          [
                            0.3333333333333333,
                            "#9c179e"
                          ],
                          [
                            0.4444444444444444,
                            "#bd3786"
                          ],
                          [
                            0.5555555555555556,
                            "#d8576b"
                          ],
                          [
                            0.6666666666666666,
                            "#ed7953"
                          ],
                          [
                            0.7777777777777778,
                            "#fb9f3a"
                          ],
                          [
                            0.8888888888888888,
                            "#fdca26"
                          ],
                          [
                            1,
                            "#f0f921"
                          ]
                        ],
                        "type": "contour"
                      }
                    ],
                    "contourcarpet": [
                      {
                        "colorbar": {
                          "outlinewidth": 0,
                          "ticks": ""
                        },
                        "type": "contourcarpet"
                      }
                    ],
                    "heatmap": [
                      {
                        "colorbar": {
                          "outlinewidth": 0,
                          "ticks": ""
                        },
                        "colorscale": [
                          [
                            0,
                            "#0d0887"
                          ],
                          [
                            0.1111111111111111,
                            "#46039f"
                          ],
                          [
                            0.2222222222222222,
                            "#7201a8"
                          ],
                          [
                            0.3333333333333333,
                            "#9c179e"
                          ],
                          [
                            0.4444444444444444,
                            "#bd3786"
                          ],
                          [
                            0.5555555555555556,
                            "#d8576b"
                          ],
                          [
                            0.6666666666666666,
                            "#ed7953"
                          ],
                          [
                            0.7777777777777778,
                            "#fb9f3a"
                          ],
                          [
                            0.8888888888888888,
                            "#fdca26"
                          ],
                          [
                            1,
                            "#f0f921"
                          ]
                        ],
                        "type": "heatmap"
                      }
                    ],
                    "histogram": [
                      {
                        "marker": {
                          "pattern": {
                            "fillmode": "overlay",
                            "size": 10,
                            "solidity": 0.2
                          }
                        },
                        "type": "histogram"
                      }
                    ],
                    "histogram2d": [
                      {
                        "colorbar": {
                          "outlinewidth": 0,
                          "ticks": ""
                        },
                        "colorscale": [
                          [
                            0,
                            "#0d0887"
                          ],
                          [
                            0.1111111111111111,
                            "#46039f"
                          ],
                          [
                            0.2222222222222222,
                            "#7201a8"
                          ],
                          [
                            0.3333333333333333,
                            "#9c179e"
                          ],
                          [
                            0.4444444444444444,
                            "#bd3786"
                          ],
                          [
                            0.5555555555555556,
                            "#d8576b"
                          ],
                          [
                            0.6666666666666666,
                            "#ed7953"
                          ],
                          [
                            0.7777777777777778,
                            "#fb9f3a"
                          ],
                          [
                            0.8888888888888888,
                            "#fdca26"
                          ],
                          [
                            1,
                            "#f0f921"
                          ]
                        ],
                        "type": "histogram2d"
                      }
                    ],
                    "histogram2dcontour": [
                      {
                        "colorbar": {
                          "outlinewidth": 0,
                          "ticks": ""
                        },
                        "colorscale": [
                          [
                            0,
                            "#0d0887"
                          ],
                          [
                            0.1111111111111111,
                            "#46039f"
                          ],
                          [
                            0.2222222222222222,
                            "#7201a8"
                          ],
                          [
                            0.3333333333333333,
                            "#9c179e"
                          ],
                          [
                            0.4444444444444444,
                            "#bd3786"
                          ],
                          [
                            0.5555555555555556,
                            "#d8576b"
                          ],
                          [
                            0.6666666666666666,
                            "#ed7953"
                          ],
                          [
                            0.7777777777777778,
                            "#fb9f3a"
                          ],
                          [
                            0.8888888888888888,
                            "#fdca26"
                          ],
                          [
                            1,
                            "#f0f921"
                          ]
                        ],
                        "type": "histogram2dcontour"
                      }
                    ],
                    "mesh3d": [
                      {
                        "colorbar": {
                          "outlinewidth": 0,
                          "ticks": ""
                        },
                        "type": "mesh3d"
                      }
                    ],
                    "parcoords": [
                      {
                        "line": {
                          "colorbar": {
                            "outlinewidth": 0,
                            "ticks": ""
                          }
                        },
                        "type": "parcoords"
                      }
                    ],
                    "pie": [
                      {
                        "automargin": true,
                        "type": "pie"
                      }
                    ],
                    "scatter": [
                      {
                        "fillpattern": {
                          "fillmode": "overlay",
                          "size": 10,
                          "solidity": 0.2
                        },
                        "type": "scatter"
                      }
                    ],
                    "scatter3d": [
                      {
                        "line": {
                          "colorbar": {
                            "outlinewidth": 0,
                            "ticks": ""
                          }
                        },
                        "marker": {
                          "colorbar": {
                            "outlinewidth": 0,
                            "ticks": ""
                          }
                        },
                        "type": "scatter3d"
                      }
                    ],
                    "scattercarpet": [
                      {
                        "marker": {
                          "colorbar": {
                            "outlinewidth": 0,
                            "ticks": ""
                          }
                        },
                        "type": "scattercarpet"
                      }
                    ],
                    "scattergeo": [
                      {
                        "marker": {
                          "colorbar": {
                            "outlinewidth": 0,
                            "ticks": ""
                          }
                        },
                        "type": "scattergeo"
                      }
                    ],
                    "scattergl": [
                      {
                        "marker": {
                          "colorbar": {
                            "outlinewidth": 0,
                            "ticks": ""
                          }
                        },
                        "type": "scattergl"
                      }
                    ],
                    "scattermap": [
                      {
                        "marker": {
                          "colorbar": {
                            "outlinewidth": 0,
                            "ticks": ""
                          }
                        },
                        "type": "scattermap"
                      }
                    ],
                    "scattermapbox": [
                      {
                        "marker": {
                          "colorbar": {
                            "outlinewidth": 0,
                            "ticks": ""
                          }
                        },
                        "type": "scattermapbox"
                      }
                    ],
                    "scatterpolar": [
                      {
                        "marker": {
                          "colorbar": {
                            "outlinewidth": 0,
                            "ticks": ""
                          }
                        },
                        "type": "scatterpolar"
                      }
                    ],
                    "scatterpolargl": [
                      {
                        "marker": {
                          "colorbar": {
                            "outlinewidth": 0,
                            "ticks": ""
                          }
                        },
                        "type": "scatterpolargl"
                      }
                    ],
                    "scatterternary": [
                      {
                        "marker": {
                          "colorbar": {
                            "outlinewidth": 0,
                            "ticks": ""
                          }
                        },
                        "type": "scatterternary"
                      }
                    ],
                    "surface": [
                      {
                        "colorbar": {
                          "outlinewidth": 0,
                          "ticks": ""
                        },
                        "colorscale": [
                          [
                            0,
                            "#0d0887"
                          ],
                          [
                            0.1111111111111111,
                            "#46039f"
                          ],
                          [
                            0.2222222222222222,
                            "#7201a8"
                          ],
                          [
                            0.3333333333333333,
                            "#9c179e"
                          ],
                          [
                            0.4444444444444444,
                            "#bd3786"
                          ],
                          [
                            0.5555555555555556,
                            "#d8576b"
                          ],
                          [
                            0.6666666666666666,
                            "#ed7953"
                          ],
                          [
                            0.7777777777777778,
                            "#fb9f3a"
                          ],
                          [
                            0.8888888888888888,
                            "#fdca26"
                          ],
                          [
                            1,
                            "#f0f921"
                          ]
                        ],
                        "type": "surface"
                      }
                    ],
                    "table": [
                      {
                        "cells": {
                          "fill": {
                            "color": "#EBF0F8"
                          },
                          "line": {
                            "color": "white"
                          }
                        },
                        "header": {
                          "fill": {
                            "color": "#C8D4E3"
                          },
                          "line": {
                            "color": "white"
                          }
                        },
                        "type": "table"
                      }
                    ]
                  },
                  "layout": {
                    "annotationdefaults": {
                      "arrowcolor": "#2a3f5f",
                      "arrowhead": 0,
                      "arrowwidth": 1
                    },
                    "autotypenumbers": "strict",
                    "coloraxis": {
                      "colorbar": {
                        "outlinewidth": 0,
                        "ticks": ""
                      }
                    },
                    "colorscale": {
                      "diverging": [
                        [
                          0,
                          "#8e0152"
                        ],
                        [
                          0.1,
                          "#c51b7d"
                        ],
                        [
                          0.2,
                          "#de77ae"
                        ],
                        [
                          0.3,
                          "#f1b6da"
                        ],
                        [
                          0.4,
                          "#fde0ef"
                        ],
                        [
                          0.5,
                          "#f7f7f7"
                        ],
                        [
                          0.6,
                          "#e6f5d0"
                        ],
                        [
                          0.7,
                          "#b8e186"
                        ],
                        [
                          0.8,
                          "#7fbc41"
                        ],
                        [
                          0.9,
                          "#4d9221"
                        ],
                        [
                          1,
                          "#276419"
                        ]
                      ],
                      "sequential": [
                        [
                          0,
                          "#0d0887"
                        ],
                        [
                          0.1111111111111111,
                          "#46039f"
                        ],
                        [
                          0.2222222222222222,
                          "#7201a8"
                        ],
                        [
                          0.3333333333333333,
                          "#9c179e"
                        ],
                        [
                          0.4444444444444444,
                          "#bd3786"
                        ],
                        [
                          0.5555555555555556,
                          "#d8576b"
                        ],
                        [
                          0.6666666666666666,
                          "#ed7953"
                        ],
                        [
                          0.7777777777777778,
                          "#fb9f3a"
                        ],
                        [
                          0.8888888888888888,
                          "#fdca26"
                        ],
                        [
                          1,
                          "#f0f921"
                        ]
                      ],
                      "sequentialminus": [
                        [
                          0,
                          "#0d0887"
                        ],
                        [
                          0.1111111111111111,
                          "#46039f"
                        ],
                        [
                          0.2222222222222222,
                          "#7201a8"
                        ],
                        [
                          0.3333333333333333,
                          "#9c179e"
                        ],
                        [
                          0.4444444444444444,
                          "#bd3786"
                        ],
                        [
                          0.5555555555555556,
                          "#d8576b"
                        ],
                        [
                          0.6666666666666666,
                          "#ed7953"
                        ],
                        [
                          0.7777777777777778,
                          "#fb9f3a"
                        ],
                        [
                          0.8888888888888888,
                          "#fdca26"
                        ],
                        [
                          1,
                          "#f0f921"
                        ]
                      ]
                    },
                    "colorway": [
                      "#636efa",
                      "#EF553B",
                      "#00cc96",
                      "#ab63fa",
                      "#FFA15A",
                      "#19d3f3",
                      "#FF6692",
                      "#B6E880",
                      "#FF97FF",
                      "#FECB52"
                    ],
                    "font": {
                      "color": "#2a3f5f"
                    },
                    "geo": {
                      "bgcolor": "white",
                      "lakecolor": "white",
                      "landcolor": "#E5ECF6",
                      "showlakes": true,
                      "showland": true,
                      "subunitcolor": "white"
                    },
                    "hoverlabel": {
                      "align": "left"
                    },
                    "hovermode": "closest",
                    "mapbox": {
                      "style": "light"
                    },
                    "paper_bgcolor": "white",
                    "plot_bgcolor": "#E5ECF6",
                    "polar": {
                      "angularaxis": {
                        "gridcolor": "white",
                        "linecolor": "white",
                        "ticks": ""
                      },
                      "bgcolor": "#E5ECF6",
                      "radialaxis": {
                        "gridcolor": "white",
                        "linecolor": "white",
                        "ticks": ""
                      }
                    },
                    "scene": {
                      "xaxis": {
                        "backgroundcolor": "#E5ECF6",
                        "gridcolor": "white",
                        "gridwidth": 2,
                        "linecolor": "white",
                        "showbackground": true,
                        "ticks": "",
                        "zerolinecolor": "white"
                      },
                      "yaxis": {
                        "backgroundcolor": "#E5ECF6",
                        "gridcolor": "white",
                        "gridwidth": 2,
                        "linecolor": "white",
                        "showbackground": true,
                        "ticks": "",
                        "zerolinecolor": "white"
                      },
                      "zaxis": {
                        "backgroundcolor": "#E5ECF6",
                        "gridcolor": "white",
                        "gridwidth": 2,
                        "linecolor": "white",
                        "showbackground": true,
                        "ticks": "",
                        "zerolinecolor": "white"
                      }
                    },
                    "shapedefaults": {
                      "line": {
                        "color": "#2a3f5f"
                      }
                    },
                    "ternary": {
                      "aaxis": {
                        "gridcolor": "white",
                        "linecolor": "white",
                        "ticks": ""
                      },
                      "baxis": {
                        "gridcolor": "white",
                        "linecolor": "white",
                        "ticks": ""
                      },
                      "bgcolor": "#E5ECF6",
                      "caxis": {
                        "gridcolor": "white",
                        "linecolor": "white",
                        "ticks": ""
                      }
                    },
                    "title": {
                      "x": 0.05
                    },
                    "xaxis": {
                      "automargin": true,
                      "gridcolor": "white",
                      "linecolor": "white",
                      "ticks": "",
                      "title": {
                        "standoff": 15
                      },
                      "zerolinecolor": "white",
                      "zerolinewidth": 2
                    },
                    "yaxis": {
                      "automargin": true,
                      "gridcolor": "white",
                      "linecolor": "white",
                      "ticks": "",
                      "title": {
                        "standoff": 15
                      },
                      "zerolinecolor": "white",
                      "zerolinewidth": 2
                    }
                  }
                }
              }
            }
          },
          "metadata": {},
          "output_type": "display_data"
        }
      ],
      "source": [
        "fig = go.Figure(data=[go.Bar(x=passengerhs_midpts, y=passengerhscounts, width=bin_width)])\n",
        "fig.show()"
      ]
    },
    {
      "cell_type": "code",
      "execution_count": 85,
      "metadata": {
        "id": "3v7QRzB8UolZ"
      },
      "outputs": [],
      "source": [
        "from pylab import *\n",
        "from scipy.optimize import curve_fit"
      ]
    },
    {
      "cell_type": "code",
      "execution_count": 86,
      "metadata": {
        "id": "zopUxKuBU0du"
      },
      "outputs": [],
      "source": [
        "def gauss(x,mu,sigma,A):\n",
        "    return A*exp(-(x-mu)**2/2/sigma**2)\n",
        "\n",
        "def bimodal(x,mu1,sigma1,A1,mu2,sigma2,A2):\n",
        "    return gauss(x,mu1,sigma1,A1)+gauss(x,mu2,sigma2,A2)\n",
        "\n",
        "def trimodal(x,mu1,sigma1,A1,mu2,sigma2,A2,mu3,sigma3,A3):\n",
        "    return gauss(x,mu1,sigma1,A1)+gauss(x,mu2,sigma2,A2)+gauss(x,mu3,sigma3,A3)"
      ]
    },
    {
      "cell_type": "code",
      "execution_count": 87,
      "metadata": {
        "colab": {
          "base_uri": "https://localhost:8080/",
          "height": 448
        },
        "id": "JjDzyvbfU3h-",
        "outputId": "38019f75-70bd-4b9f-a7ea-101e593fda24"
      },
      "outputs": [
        {
          "data": {
            "text/plain": [
              "<matplotlib.legend.Legend at 0x1165e3a60>"
            ]
          },
          "execution_count": 87,
          "metadata": {},
          "output_type": "execute_result"
        },
        {
          "data": {
            "image/png": "[encoded data removed]",
            "text/plain": [
              "<Figure size 640x480 with 1 Axes>"
            ]
          },
          "metadata": {},
          "output_type": "display_data"
        }
      ],
      "source": [
        "#BI-MODAL\n",
        "#expected=(0.3, 2, 100, 12, 5, 50)\n",
        "#params,cov=curve_fit(bimodal,speed_midpts,counts,expected, maxfev=5000000, bounds=(0,[10, 5, 200, 20, 20, 200]) )\n",
        "#plt.plot(speed_midpts, bimodal(speed_midpts,*params),color='red',lw=3,label='model')\n",
        "\n",
        "#TRI-MODAL\n",
        "expected=(0.3, 1, 100, 9, 0.5, 10, 12, 2, 50)\n",
        "params,cov=curve_fit(trimodal,speed_midpts,counts,expected, maxfev=5000000, bounds=(0,[1, 5, 200, 10, 1, 20, 20, 20, 200 ]))\n",
        "plt.plot(speed_midpts,trimodal(speed_midpts,*params),color='red',lw=3,label='model')\n",
        "\n",
        "plt.bar(speed_midpts,counts,width=1*bin_width,label='AIS')\n",
        "legend()"
      ]
    },
    {
      "cell_type": "code",
      "execution_count": 88,
      "metadata": {
        "colab": {
          "base_uri": "https://localhost:8080/"
        },
        "id": "KQ1yLGJkU5V6",
        "outputId": "91a9cdd3-815d-4cdc-931b-1840a58501e5"
      },
      "outputs": [
        {
          "name": "stdout",
          "output_type": "stream",
          "text": [
            "mu1,sigma1,A1,mu2,sigma2,A2,mu3,sigma3,A3\n",
            " [3.09497660e-09 7.66271254e-01 1.69361312e+02 8.12665684e+00\n",
            " 1.00000000e+00 2.00000000e+01 1.12708250e+01 8.49282490e-01\n",
            " 1.82697242e+02] \n",
            " [1.18167364e+01 4.51481940e+00 1.28009192e+03 1.05010218e+00\n",
            " 1.13861363e+00 1.56152684e+01 1.06415432e-01 1.08596330e-01\n",
            " 1.65698383e+01]\n"
          ]
        }
      ],
      "source": [
        "sigma=sqrt(diag(cov))\n",
        "print('mu1,sigma1,A1,mu2,sigma2,A2,mu3,sigma3,A3\\n',params,'\\n',sigma)"
      ]
    },
    {
      "cell_type": "code",
      "execution_count": null,
      "metadata": {
        "id": "HQfrSi3sVdEA"
      },
      "outputs": [],
      "source": []
    }
  ],
  "metadata": {
    "colab": {
      "provenance": []
    },
    "kernelspec": {
      "display_name": "Python 3",
      "language": "python",
      "name": "python3"
    },
    "language_info": {
      "codemirror_mode": {
        "name": "ipython",
        "version": 3
      },
      "file_extension": ".py",
      "mimetype": "text/x-python",
      "name": "python",
      "nbconvert_exporter": "python",
      "pygments_lexer": "ipython3",
      "version": "3.10.12"
    }
  },
  "nbformat": 4,
  "nbformat_minor": 0
}
