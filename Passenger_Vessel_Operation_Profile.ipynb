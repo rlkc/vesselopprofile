{
  "nbformat": 4,
  "nbformat_minor": 0,
  "metadata": {
    "colab": {
      "provenance": []
    },
    "kernelspec": {
      "name": "python3",
      "display_name": "Python 3"
    },
    "language_info": {
      "name": "python"
    }
  },
  "cells": [
    {
      "cell_type": "code",
      "source": [
        "import numpy as np\n",
        "import pandas as pd\n",
        "import matplotlib.pyplot as plt"
      ],
      "metadata": {
        "id": "XTgp9mFMUdF0"
      },
      "execution_count": null,
      "outputs": []
    },
    {
      "cell_type": "code",
      "source": [
        "df = pd.read_csv('Passenger.csv', header='infer')"
      ],
      "metadata": {
        "id": "MobN0wwnUjYN"
      },
      "execution_count": null,
      "outputs": []
    },
    {
      "cell_type": "code",
      "source": [
        "df.head()"
      ],
      "metadata": {
        "id": "EyZU5Ih8UkuZ",
        "outputId": "81b6c319-2cb9-413c-dc9e-7825fecd59d5",
        "colab": {
          "base_uri": "https://localhost:8080/",
          "height": 206
        }
      },
      "execution_count": null,
      "outputs": [
        {
          "output_type": "execute_result",
          "data": {
            "text/plain": [
              "             Timestamp    Source  Speed  Course  Latitude  Longitude\n",
              "0  2024-04-27 08:30:41  Terr-AIS    7.5   199.0  1.296622   103.7567\n",
              "1  2024-04-27 08:26:47  Terr-AIS    7.6   163.0  1.304510   103.7545\n",
              "2  2024-04-27 08:23:42  Terr-AIS    8.4   341.0  1.302993   103.7551\n",
              "3  2024-04-27 08:21:42  Terr-AIS    8.5   345.0  1.298658   103.7570\n",
              "4  2024-04-27 08:18:41  Terr-AIS    8.8    79.0  1.294713   103.7520"
            ],
            "text/html": [
              "\n",
              "  <div id=\"df-3841ac31-2d32-43b1-9563-b167571c13c6\" class=\"colab-df-container\">\n",
              "    <div>\n",
              "<style scoped>\n",
              "    .dataframe tbody tr th:only-of-type {\n",
              "        vertical-align: middle;\n",
              "    }\n",
              "\n",
              "    .dataframe tbody tr th {\n",
              "        vertical-align: top;\n",
              "    }\n",
              "\n",
              "    .dataframe thead th {\n",
              "        text-align: right;\n",
              "    }\n",
              "</style>\n",
              "<table border=\"1\" class=\"dataframe\">\n",
              "  <thead>\n",
              "    <tr style=\"text-align: right;\">\n",
              "      <th></th>\n",
              "      <th>Timestamp</th>\n",
              "      <th>Source</th>\n",
              "      <th>Speed</th>\n",
              "      <th>Course</th>\n",
              "      <th>Latitude</th>\n",
              "      <th>Longitude</th>\n",
              "    </tr>\n",
              "  </thead>\n",
              "  <tbody>\n",
              "    <tr>\n",
              "      <th>0</th>\n",
              "      <td>2024-04-27 08:30:41</td>\n",
              "      <td>Terr-AIS</td>\n",
              "      <td>7.5</td>\n",
              "      <td>199.0</td>\n",
              "      <td>1.296622</td>\n",
              "      <td>103.7567</td>\n",
              "    </tr>\n",
              "    <tr>\n",
              "      <th>1</th>\n",
              "      <td>2024-04-27 08:26:47</td>\n",
              "      <td>Terr-AIS</td>\n",
              "      <td>7.6</td>\n",
              "      <td>163.0</td>\n",
              "      <td>1.304510</td>\n",
              "      <td>103.7545</td>\n",
              "    </tr>\n",
              "    <tr>\n",
              "      <th>2</th>\n",
              "      <td>2024-04-27 08:23:42</td>\n",
              "      <td>Terr-AIS</td>\n",
              "      <td>8.4</td>\n",
              "      <td>341.0</td>\n",
              "      <td>1.302993</td>\n",
              "      <td>103.7551</td>\n",
              "    </tr>\n",
              "    <tr>\n",
              "      <th>3</th>\n",
              "      <td>2024-04-27 08:21:42</td>\n",
              "      <td>Terr-AIS</td>\n",
              "      <td>8.5</td>\n",
              "      <td>345.0</td>\n",
              "      <td>1.298658</td>\n",
              "      <td>103.7570</td>\n",
              "    </tr>\n",
              "    <tr>\n",
              "      <th>4</th>\n",
              "      <td>2024-04-27 08:18:41</td>\n",
              "      <td>Terr-AIS</td>\n",
              "      <td>8.8</td>\n",
              "      <td>79.0</td>\n",
              "      <td>1.294713</td>\n",
              "      <td>103.7520</td>\n",
              "    </tr>\n",
              "  </tbody>\n",
              "</table>\n",
              "</div>\n",
              "    <div class=\"colab-df-buttons\">\n",
              "\n",
              "  <div class=\"colab-df-container\">\n",
              "    <button class=\"colab-df-convert\" onclick=\"convertToInteractive('df-3841ac31-2d32-43b1-9563-b167571c13c6')\"\n",
              "            title=\"Convert this dataframe to an interactive table.\"\n",
              "            style=\"display:none;\">\n",
              "\n",
              "  <svg xmlns=\"http://www.w3.org/2000/svg\" height=\"24px\" viewBox=\"0 -960 960 960\">\n",
              "    <path d=\"M120-120v-720h720v720H120Zm60-500h600v-160H180v160Zm220 220h160v-160H400v160Zm0 220h160v-160H400v160ZM180-400h160v-160H180v160Zm440 0h160v-160H620v160ZM180-180h160v-160H180v160Zm440 0h160v-160H620v160Z\"/>\n",
              "  </svg>\n",
              "    </button>\n",
              "\n",
              "  <style>\n",
              "    .colab-df-container {\n",
              "      display:flex;\n",
              "      gap: 12px;\n",
              "    }\n",
              "\n",
              "    .colab-df-convert {\n",
              "      background-color: #E8F0FE;\n",
              "      border: none;\n",
              "      border-radius: 50%;\n",
              "      cursor: pointer;\n",
              "      display: none;\n",
              "      fill: #1967D2;\n",
              "      height: 32px;\n",
              "      padding: 0 0 0 0;\n",
              "      width: 32px;\n",
              "    }\n",
              "\n",
              "    .colab-df-convert:hover {\n",
              "      background-color: #E2EBFA;\n",
              "      box-shadow: 0px 1px 2px rgba(60, 64, 67, 0.3), 0px 1px 3px 1px rgba(60, 64, 67, 0.15);\n",
              "      fill: #174EA6;\n",
              "    }\n",
              "\n",
              "    .colab-df-buttons div {\n",
              "      margin-bottom: 4px;\n",
              "    }\n",
              "\n",
              "    [theme=dark] .colab-df-convert {\n",
              "      background-color: #3B4455;\n",
              "      fill: #D2E3FC;\n",
              "    }\n",
              "\n",
              "    [theme=dark] .colab-df-convert:hover {\n",
              "      background-color: #434B5C;\n",
              "      box-shadow: 0px 1px 3px 1px rgba(0, 0, 0, 0.15);\n",
              "      filter: drop-shadow(0px 1px 2px rgba(0, 0, 0, 0.3));\n",
              "      fill: #FFFFFF;\n",
              "    }\n",
              "  </style>\n",
              "\n",
              "    <script>\n",
              "      const buttonEl =\n",
              "        document.querySelector('#df-3841ac31-2d32-43b1-9563-b167571c13c6 button.colab-df-convert');\n",
              "      buttonEl.style.display =\n",
              "        google.colab.kernel.accessAllowed ? 'block' : 'none';\n",
              "\n",
              "      async function convertToInteractive(key) {\n",
              "        const element = document.querySelector('#df-3841ac31-2d32-43b1-9563-b167571c13c6');\n",
              "        const dataTable =\n",
              "          await google.colab.kernel.invokeFunction('convertToInteractive',\n",
              "                                                    [key], {});\n",
              "        if (!dataTable) return;\n",
              "\n",
              "        const docLinkHtml = 'Like what you see? Visit the ' +\n",
              "          '<a target=\"_blank\" href=https://colab.research.google.com/notebooks/data_table.ipynb>data table notebook</a>'\n",
              "          + ' to learn more about interactive tables.';\n",
              "        element.innerHTML = '';\n",
              "        dataTable['output_type'] = 'display_data';\n",
              "        await google.colab.output.renderOutput(dataTable, element);\n",
              "        const docLink = document.createElement('div');\n",
              "        docLink.innerHTML = docLinkHtml;\n",
              "        element.appendChild(docLink);\n",
              "      }\n",
              "    </script>\n",
              "  </div>\n",
              "\n",
              "\n",
              "<div id=\"df-5151bfda-b083-4edd-ba2e-7bcb020aa556\">\n",
              "  <button class=\"colab-df-quickchart\" onclick=\"quickchart('df-5151bfda-b083-4edd-ba2e-7bcb020aa556')\"\n",
              "            title=\"Suggest charts\"\n",
              "            style=\"display:none;\">\n",
              "\n",
              "<svg xmlns=\"http://www.w3.org/2000/svg\" height=\"24px\"viewBox=\"0 0 24 24\"\n",
              "     width=\"24px\">\n",
              "    <g>\n",
              "        <path d=\"M19 3H5c-1.1 0-2 .9-2 2v14c0 1.1.9 2 2 2h14c1.1 0 2-.9 2-2V5c0-1.1-.9-2-2-2zM9 17H7v-7h2v7zm4 0h-2V7h2v10zm4 0h-2v-4h2v4z\"/>\n",
              "    </g>\n",
              "</svg>\n",
              "  </button>\n",
              "\n",
              "<style>\n",
              "  .colab-df-quickchart {\n",
              "      --bg-color: #E8F0FE;\n",
              "      --fill-color: #1967D2;\n",
              "      --hover-bg-color: #E2EBFA;\n",
              "      --hover-fill-color: #174EA6;\n",
              "      --disabled-fill-color: #AAA;\n",
              "      --disabled-bg-color: #DDD;\n",
              "  }\n",
              "\n",
              "  [theme=dark] .colab-df-quickchart {\n",
              "      --bg-color: #3B4455;\n",
              "      --fill-color: #D2E3FC;\n",
              "      --hover-bg-color: #434B5C;\n",
              "      --hover-fill-color: #FFFFFF;\n",
              "      --disabled-bg-color: #3B4455;\n",
              "      --disabled-fill-color: #666;\n",
              "  }\n",
              "\n",
              "  .colab-df-quickchart {\n",
              "    background-color: var(--bg-color);\n",
              "    border: none;\n",
              "    border-radius: 50%;\n",
              "    cursor: pointer;\n",
              "    display: none;\n",
              "    fill: var(--fill-color);\n",
              "    height: 32px;\n",
              "    padding: 0;\n",
              "    width: 32px;\n",
              "  }\n",
              "\n",
              "  .colab-df-quickchart:hover {\n",
              "    background-color: var(--hover-bg-color);\n",
              "    box-shadow: 0 1px 2px rgba(60, 64, 67, 0.3), 0 1px 3px 1px rgba(60, 64, 67, 0.15);\n",
              "    fill: var(--button-hover-fill-color);\n",
              "  }\n",
              "\n",
              "  .colab-df-quickchart-complete:disabled,\n",
              "  .colab-df-quickchart-complete:disabled:hover {\n",
              "    background-color: var(--disabled-bg-color);\n",
              "    fill: var(--disabled-fill-color);\n",
              "    box-shadow: none;\n",
              "  }\n",
              "\n",
              "  .colab-df-spinner {\n",
              "    border: 2px solid var(--fill-color);\n",
              "    border-color: transparent;\n",
              "    border-bottom-color: var(--fill-color);\n",
              "    animation:\n",
              "      spin 1s steps(1) infinite;\n",
              "  }\n",
              "\n",
              "  @keyframes spin {\n",
              "    0% {\n",
              "      border-color: transparent;\n",
              "      border-bottom-color: var(--fill-color);\n",
              "      border-left-color: var(--fill-color);\n",
              "    }\n",
              "    20% {\n",
              "      border-color: transparent;\n",
              "      border-left-color: var(--fill-color);\n",
              "      border-top-color: var(--fill-color);\n",
              "    }\n",
              "    30% {\n",
              "      border-color: transparent;\n",
              "      border-left-color: var(--fill-color);\n",
              "      border-top-color: var(--fill-color);\n",
              "      border-right-color: var(--fill-color);\n",
              "    }\n",
              "    40% {\n",
              "      border-color: transparent;\n",
              "      border-right-color: var(--fill-color);\n",
              "      border-top-color: var(--fill-color);\n",
              "    }\n",
              "    60% {\n",
              "      border-color: transparent;\n",
              "      border-right-color: var(--fill-color);\n",
              "    }\n",
              "    80% {\n",
              "      border-color: transparent;\n",
              "      border-right-color: var(--fill-color);\n",
              "      border-bottom-color: var(--fill-color);\n",
              "    }\n",
              "    90% {\n",
              "      border-color: transparent;\n",
              "      border-bottom-color: var(--fill-color);\n",
              "    }\n",
              "  }\n",
              "</style>\n",
              "\n",
              "  <script>\n",
              "    async function quickchart(key) {\n",
              "      const quickchartButtonEl =\n",
              "        document.querySelector('#' + key + ' button');\n",
              "      quickchartButtonEl.disabled = true;  // To prevent multiple clicks.\n",
              "      quickchartButtonEl.classList.add('colab-df-spinner');\n",
              "      try {\n",
              "        const charts = await google.colab.kernel.invokeFunction(\n",
              "            'suggestCharts', [key], {});\n",
              "      } catch (error) {\n",
              "        console.error('Error during call to suggestCharts:', error);\n",
              "      }\n",
              "      quickchartButtonEl.classList.remove('colab-df-spinner');\n",
              "      quickchartButtonEl.classList.add('colab-df-quickchart-complete');\n",
              "    }\n",
              "    (() => {\n",
              "      let quickchartButtonEl =\n",
              "        document.querySelector('#df-5151bfda-b083-4edd-ba2e-7bcb020aa556 button');\n",
              "      quickchartButtonEl.style.display =\n",
              "        google.colab.kernel.accessAllowed ? 'block' : 'none';\n",
              "    })();\n",
              "  </script>\n",
              "</div>\n",
              "\n",
              "    </div>\n",
              "  </div>\n"
            ],
            "application/vnd.google.colaboratory.intrinsic+json": {
              "type": "dataframe",
              "variable_name": "df",
              "summary": "{\n  \"name\": \"df\",\n  \"rows\": 693,\n  \"fields\": [\n    {\n      \"column\": \"Timestamp\",\n      \"properties\": {\n        \"dtype\": \"object\",\n        \"num_unique_values\": 693,\n        \"samples\": [\n          \"2024-04-24 21:43:49\",\n          \"2024-04-21 05:54:11\",\n          \"2024-04-25 05:16:21\"\n        ],\n        \"semantic_type\": \"\",\n        \"description\": \"\"\n      }\n    },\n    {\n      \"column\": \"Source\",\n      \"properties\": {\n        \"dtype\": \"category\",\n        \"num_unique_values\": 1,\n        \"samples\": [\n          \"Terr-AIS\"\n        ],\n        \"semantic_type\": \"\",\n        \"description\": \"\"\n      }\n    },\n    {\n      \"column\": \"Speed\",\n      \"properties\": {\n        \"dtype\": \"number\",\n        \"std\": 4.595024480118858,\n        \"min\": 0.0,\n        \"max\": 13.9,\n        \"num_unique_values\": 121,\n        \"samples\": [\n          12.1\n        ],\n        \"semantic_type\": \"\",\n        \"description\": \"\"\n      }\n    },\n    {\n      \"column\": \"Course\",\n      \"properties\": {\n        \"dtype\": \"number\",\n        \"std\": 104.56268143498788,\n        \"min\": 0.0,\n        \"max\": 359.0,\n        \"num_unique_values\": 287,\n        \"samples\": [\n          70.0\n        ],\n        \"semantic_type\": \"\",\n        \"description\": \"\"\n      }\n    },\n    {\n      \"column\": \"Latitude\",\n      \"properties\": {\n        \"dtype\": \"number\",\n        \"std\": 0.025906086365144347,\n        \"min\": 1.192262,\n        \"max\": 1.305907,\n        \"num_unique_values\": 673,\n        \"samples\": [\n          1.2944\n        ],\n        \"semantic_type\": \"\",\n        \"description\": \"\"\n      }\n    },\n    {\n      \"column\": \"Longitude\",\n      \"properties\": {\n        \"dtype\": \"number\",\n        \"std\": 0.07890655492730816,\n        \"min\": 103.6544,\n        \"max\": 103.9969,\n        \"num_unique_values\": 501,\n        \"samples\": [\n          103.8146\n        ],\n        \"semantic_type\": \"\",\n        \"description\": \"\"\n      }\n    }\n  ]\n}"
            }
          },
          "metadata": {},
          "execution_count": 3
        }
      ]
    },
    {
      "cell_type": "code",
      "source": [
        "df_hist = df.Speed.hist(bins=50)"
      ],
      "metadata": {
        "id": "c6ApU4BcUl3N",
        "outputId": "35dd72c4-171a-424c-be20-4a6fe7c5334c",
        "colab": {
          "base_uri": "https://localhost:8080/",
          "height": 430
        }
      },
      "execution_count": null,
      "outputs": [
        {
          "output_type": "display_data",
          "data": {
            "text/plain": [
              "<Figure size 640x480 with 1 Axes>"
            ],
            "image/png": "[encoded data removed]"
          },
          "metadata": {}
        }
      ]
    },
    {
      "cell_type": "code",
      "source": [
        "bin_width = 1\n",
        "st = 0\n",
        "en = 15"
      ],
      "metadata": {
        "id": "kxdLU8e2U_7w"
      },
      "execution_count": null,
      "outputs": []
    },
    {
      "cell_type": "code",
      "source": [
        "speed_bins = np.arange(st,en+bin_width,bin_width)\n",
        "speed_bins"
      ],
      "metadata": {
        "id": "IWYuQEe1U_5H",
        "outputId": "46e07c47-ce19-4ecb-9c9e-a88d9380bb37",
        "colab": {
          "base_uri": "https://localhost:8080/"
        }
      },
      "execution_count": null,
      "outputs": [
        {
          "output_type": "execute_result",
          "data": {
            "text/plain": [
              "array([ 0,  1,  2,  3,  4,  5,  6,  7,  8,  9, 10, 11, 12, 13, 14, 15])"
            ]
          },
          "metadata": {},
          "execution_count": 16
        }
      ]
    },
    {
      "cell_type": "code",
      "source": [
        "speed_midpts = np.arange(st+bin_width/2,en,bin_width)\n",
        "speed_midpts"
      ],
      "metadata": {
        "id": "sSrePodDU_2U",
        "outputId": "613b25f8-38f2-472c-fdeb-405f52df9cfa",
        "colab": {
          "base_uri": "https://localhost:8080/"
        }
      },
      "execution_count": null,
      "outputs": [
        {
          "output_type": "execute_result",
          "data": {
            "text/plain": [
              "array([ 0.5,  1.5,  2.5,  3.5,  4.5,  5.5,  6.5,  7.5,  8.5,  9.5, 10.5,\n",
              "       11.5, 12.5, 13.5, 14.5])"
            ]
          },
          "metadata": {},
          "execution_count": 17
        }
      ]
    },
    {
      "cell_type": "code",
      "source": [
        "counts, bins = np.histogram(df['Speed'], bins=speed_bins,range=(st,en))\n",
        "counts"
      ],
      "metadata": {
        "id": "NZpx7-nrU_zg",
        "outputId": "95e17319-23ce-42c8-f699-5ad0913f6641",
        "colab": {
          "base_uri": "https://localhost:8080/"
        }
      },
      "execution_count": null,
      "outputs": [
        {
          "output_type": "execute_result",
          "data": {
            "text/plain": [
              "array([11, 47, 40,  0, 12, 19,  5,  0,  1,  2,  5,  4,  0,  5,  0,  3,  5,\n",
              "        0,  2,  0,  1,  0,  3,  4,  0,  0,  1,  0,  1,  0,  2,  0,  1,  1,\n",
              "        0,  3,  1,  3,  3,  0,  7,  0,  1,  3,  2,  5,  0,  4,  0,  1,  5,\n",
              "        0,  3,  0,  1,  3,  0,  4,  0,  1,  2,  0,  1,  0,  0,  2,  0,  2,\n",
              "        0,  1,  3,  0,  4,  0,  1,  5,  0,  8,  0,  2,  3,  9,  0,  2,  6,\n",
              "        6,  9,  0,  5,  2,  3,  9,  0,  0,  3,  3,  2,  0,  3,  2,  7,  2,\n",
              "        0,  4, 10, 28, 20,  0, 28, 24, 42, 19,  0, 20, 21, 26, 18,  0, 16,\n",
              "       14, 24, 12,  0,  8,  8,  6,  3,  0,  1,  2,  4,  1,  0,  1,  0,  0,\n",
              "        0,  0,  0,  1,  0,  0,  0,  0,  0,  0,  0,  0,  0,  0])"
            ]
          },
          "metadata": {},
          "execution_count": 8
        }
      ]
    },
    {
      "cell_type": "code",
      "source": [
        "bins"
      ],
      "metadata": {
        "id": "KVSaFhd1U_wm",
        "outputId": "666ca3c6-fb51-4157-cde6-4be845aab65d",
        "colab": {
          "base_uri": "https://localhost:8080/"
        }
      },
      "execution_count": null,
      "outputs": [
        {
          "output_type": "execute_result",
          "data": {
            "text/plain": [
              "array([ 0. ,  0.1,  0.2,  0.3,  0.4,  0.5,  0.6,  0.7,  0.8,  0.9,  1. ,\n",
              "        1.1,  1.2,  1.3,  1.4,  1.5,  1.6,  1.7,  1.8,  1.9,  2. ,  2.1,\n",
              "        2.2,  2.3,  2.4,  2.5,  2.6,  2.7,  2.8,  2.9,  3. ,  3.1,  3.2,\n",
              "        3.3,  3.4,  3.5,  3.6,  3.7,  3.8,  3.9,  4. ,  4.1,  4.2,  4.3,\n",
              "        4.4,  4.5,  4.6,  4.7,  4.8,  4.9,  5. ,  5.1,  5.2,  5.3,  5.4,\n",
              "        5.5,  5.6,  5.7,  5.8,  5.9,  6. ,  6.1,  6.2,  6.3,  6.4,  6.5,\n",
              "        6.6,  6.7,  6.8,  6.9,  7. ,  7.1,  7.2,  7.3,  7.4,  7.5,  7.6,\n",
              "        7.7,  7.8,  7.9,  8. ,  8.1,  8.2,  8.3,  8.4,  8.5,  8.6,  8.7,\n",
              "        8.8,  8.9,  9. ,  9.1,  9.2,  9.3,  9.4,  9.5,  9.6,  9.7,  9.8,\n",
              "        9.9, 10. , 10.1, 10.2, 10.3, 10.4, 10.5, 10.6, 10.7, 10.8, 10.9,\n",
              "       11. , 11.1, 11.2, 11.3, 11.4, 11.5, 11.6, 11.7, 11.8, 11.9, 12. ,\n",
              "       12.1, 12.2, 12.3, 12.4, 12.5, 12.6, 12.7, 12.8, 12.9, 13. , 13.1,\n",
              "       13.2, 13.3, 13.4, 13.5, 13.6, 13.7, 13.8, 13.9, 14. , 14.1, 14.2,\n",
              "       14.3, 14.4, 14.5, 14.6, 14.7, 14.8, 14.9, 15. ])"
            ]
          },
          "metadata": {},
          "execution_count": 9
        }
      ]
    },
    {
      "cell_type": "code",
      "source": [
        "plt.bar(speed_midpts, counts, width = bin_width)"
      ],
      "metadata": {
        "id": "evkqSg26U_tc",
        "outputId": "96224fe5-62fb-465d-ab00-bdef4d5001e2",
        "colab": {
          "base_uri": "https://localhost:8080/",
          "height": 447
        }
      },
      "execution_count": null,
      "outputs": [
        {
          "output_type": "execute_result",
          "data": {
            "text/plain": [
              "<BarContainer object of 150 artists>"
            ]
          },
          "metadata": {},
          "execution_count": 10
        },
        {
          "output_type": "display_data",
          "data": {
            "text/plain": [
              "<Figure size 640x480 with 1 Axes>"
            ],
            "image/png": "[encoded data removed]"
          },
          "metadata": {}
        }
      ]
    },
    {
      "cell_type": "code",
      "source": [
        "from pylab import *\n",
        "from scipy.optimize import curve_fit"
      ],
      "metadata": {
        "id": "3v7QRzB8UolZ"
      },
      "execution_count": null,
      "outputs": []
    },
    {
      "cell_type": "code",
      "source": [
        "def gauss(x,mu,sigma,A):\n",
        "    return A*exp(-(x-mu)**2/2/sigma**2)\n",
        "\n",
        "def bimodal(x,mu1,sigma1,A1,mu2,sigma2,A2):\n",
        "    return gauss(x,mu1,sigma1,A1)+gauss(x,mu2,sigma2,A2)\n",
        "\n",
        "def trimodal(x,mu1,sigma1,A1,mu2,sigma2,A2,mu3,sigma3,A3):\n",
        "    return gauss(x,mu1,sigma1,A1)+gauss(x,mu2,sigma2,A2)+gauss(x,mu3,sigma3,A3)"
      ],
      "metadata": {
        "id": "zopUxKuBU0du"
      },
      "execution_count": null,
      "outputs": []
    },
    {
      "cell_type": "code",
      "source": [
        "#BI-MODAL\n",
        "#expected=(0.3, 2, 100, 12, 5, 50)\n",
        "#params,cov=curve_fit(bimodal,speed_midpts,counts,expected, maxfev=5000000, bounds=(0,[10, 5, 200, 20, 20, 200]) )\n",
        "#plt.plot(speed_midpts, bimodal(speed_midpts,*params),color='red',lw=3,label='model')\n",
        "\n",
        "#TRI-MODAL\n",
        "expected=(0.3, 1, 100, 9, 0.5, 10, 12, 2, 50)\n",
        "params,cov=curve_fit(trimodal,speed_midpts,counts,expected, maxfev=5000000, bounds=(0,[1, 5, 200, 10, 1, 20, 20, 20, 200 ]))\n",
        "plt.plot(speed_midpts,trimodal(speed_midpts,*params),color='red',lw=3,label='model')\n",
        "\n",
        "plt.bar(speed_midpts,counts,width=1*bin_width,label='AIS')\n",
        "legend()"
      ],
      "metadata": {
        "id": "JjDzyvbfU3h-",
        "outputId": "38019f75-70bd-4b9f-a7ea-101e593fda24",
        "colab": {
          "base_uri": "https://localhost:8080/",
          "height": 448
        }
      },
      "execution_count": null,
      "outputs": [
        {
          "output_type": "execute_result",
          "data": {
            "text/plain": [
              "<matplotlib.legend.Legend at 0x79d1c04bae90>"
            ]
          },
          "metadata": {},
          "execution_count": 13
        },
        {
          "output_type": "display_data",
          "data": {
            "text/plain": [
              "<Figure size 640x480 with 1 Axes>"
            ],
            "image/png": "[encoded data removed]"
          },
          "metadata": {}
        }
      ]
    },
    {
      "cell_type": "code",
      "source": [
        "sigma=sqrt(diag(cov))\n",
        "print('mu1,sigma1,A1,mu2,sigma2,A2,mu3,sigma3,A3\\n',params,'\\n',sigma)"
      ],
      "metadata": {
        "id": "KQ1yLGJkU5V6",
        "outputId": "91a9cdd3-815d-4cdc-931b-1840a58501e5",
        "colab": {
          "base_uri": "https://localhost:8080/"
        }
      },
      "execution_count": null,
      "outputs": [
        {
          "output_type": "stream",
          "name": "stdout",
          "text": [
            "mu1,sigma1,A1,mu2,sigma2,A2,mu3,sigma3,A3\n",
            " [ 0.18825799  0.07249146 55.34639142  8.3529979   0.69236987  4.62667886\n",
            " 11.23719391  0.69565617 21.64143845] \n",
            " [0.00784965 0.00965835 5.92807218 0.30498969 0.31747093 1.7344031\n",
            " 0.06534985 0.06804437 1.73051622]\n"
          ]
        }
      ]
    },
    {
      "cell_type": "code",
      "source": [],
      "metadata": {
        "id": "HQfrSi3sVdEA"
      },
      "execution_count": null,
      "outputs": []
    }
  ]
}